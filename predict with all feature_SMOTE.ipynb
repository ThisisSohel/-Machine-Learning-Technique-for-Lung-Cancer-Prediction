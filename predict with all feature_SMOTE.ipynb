{
 "cells": [
  {
   "cell_type": "markdown",
   "id": "af0f3533",
   "metadata": {
    "papermill": {
     "duration": 0.01167,
     "end_time": "2022-06-13T09:06:58.902667",
     "exception": false,
     "start_time": "2022-06-13T09:06:58.890997",
     "status": "completed"
    },
    "tags": []
   },
   "source": [
    "# Lung Cancer"
   ]
  },
  {
   "cell_type": "code",
   "execution_count": 125,
   "id": "4d318732",
   "metadata": {
    "execution": {
     "iopub.execute_input": "2022-06-13T09:06:58.926090Z",
     "iopub.status.busy": "2022-06-13T09:06:58.925499Z",
     "iopub.status.idle": "2022-06-13T09:06:59.927233Z",
     "shell.execute_reply": "2022-06-13T09:06:59.926104Z"
    },
    "papermill": {
     "duration": 1.016432,
     "end_time": "2022-06-13T09:06:59.929886",
     "exception": false,
     "start_time": "2022-06-13T09:06:58.913454",
     "status": "completed"
    },
    "tags": []
   },
   "outputs": [],
   "source": [
    "import numpy as np\n",
    "import pandas as pd\n",
    "import matplotlib.pyplot as plt\n",
    "import seaborn as sns\n",
    "import warnings\n",
    "from sklearn.model_selection import KFold\n",
    "from sklearn.metrics import accuracy_score\n",
    "warnings.filterwarnings('ignore')"
   ]
  },
  {
   "cell_type": "markdown",
   "id": "5f2c6873",
   "metadata": {
    "papermill": {
     "duration": 0.010295,
     "end_time": "2022-06-13T09:06:59.950620",
     "exception": false,
     "start_time": "2022-06-13T09:06:59.940325",
     "status": "completed"
    },
    "tags": []
   },
   "source": [
    "## Load the dataset"
   ]
  },
  {
   "cell_type": "code",
   "execution_count": 126,
   "id": "03fd43ec",
   "metadata": {
    "execution": {
     "iopub.execute_input": "2022-06-13T09:06:59.972986Z",
     "iopub.status.busy": "2022-06-13T09:06:59.972607Z",
     "iopub.status.idle": "2022-06-13T09:07:00.012211Z",
     "shell.execute_reply": "2022-06-13T09:07:00.011242Z"
    },
    "papermill": {
     "duration": 0.05432,
     "end_time": "2022-06-13T09:07:00.015422",
     "exception": false,
     "start_time": "2022-06-13T09:06:59.961102",
     "status": "completed"
    },
    "tags": []
   },
   "outputs": [
    {
     "data": {
      "text/html": [
       "<div>\n",
       "<style scoped>\n",
       "    .dataframe tbody tr th:only-of-type {\n",
       "        vertical-align: middle;\n",
       "    }\n",
       "\n",
       "    .dataframe tbody tr th {\n",
       "        vertical-align: top;\n",
       "    }\n",
       "\n",
       "    .dataframe thead th {\n",
       "        text-align: right;\n",
       "    }\n",
       "</style>\n",
       "<table border=\"1\" class=\"dataframe\">\n",
       "  <thead>\n",
       "    <tr style=\"text-align: right;\">\n",
       "      <th></th>\n",
       "      <th>GENDER</th>\n",
       "      <th>AGE</th>\n",
       "      <th>SMOKING</th>\n",
       "      <th>YELLOW_FINGERS</th>\n",
       "      <th>ANXIETY</th>\n",
       "      <th>PEER_PRESSURE</th>\n",
       "      <th>CHRONIC DISEASE</th>\n",
       "      <th>FATIGUE</th>\n",
       "      <th>ALLERGY</th>\n",
       "      <th>WHEEZING</th>\n",
       "      <th>ALCOHOL CONSUMING</th>\n",
       "      <th>COUGHING</th>\n",
       "      <th>SHORTNESS OF BREATH</th>\n",
       "      <th>SWALLOWING DIFFICULTY</th>\n",
       "      <th>CHEST PAIN</th>\n",
       "      <th>LUNG_CANCER</th>\n",
       "    </tr>\n",
       "  </thead>\n",
       "  <tbody>\n",
       "    <tr>\n",
       "      <th>0</th>\n",
       "      <td>M</td>\n",
       "      <td>69</td>\n",
       "      <td>1</td>\n",
       "      <td>2</td>\n",
       "      <td>2</td>\n",
       "      <td>1</td>\n",
       "      <td>1</td>\n",
       "      <td>2</td>\n",
       "      <td>1</td>\n",
       "      <td>2</td>\n",
       "      <td>2</td>\n",
       "      <td>2</td>\n",
       "      <td>2</td>\n",
       "      <td>2</td>\n",
       "      <td>2</td>\n",
       "      <td>YES</td>\n",
       "    </tr>\n",
       "    <tr>\n",
       "      <th>1</th>\n",
       "      <td>M</td>\n",
       "      <td>74</td>\n",
       "      <td>2</td>\n",
       "      <td>1</td>\n",
       "      <td>1</td>\n",
       "      <td>1</td>\n",
       "      <td>2</td>\n",
       "      <td>2</td>\n",
       "      <td>2</td>\n",
       "      <td>1</td>\n",
       "      <td>1</td>\n",
       "      <td>1</td>\n",
       "      <td>2</td>\n",
       "      <td>2</td>\n",
       "      <td>2</td>\n",
       "      <td>YES</td>\n",
       "    </tr>\n",
       "    <tr>\n",
       "      <th>2</th>\n",
       "      <td>F</td>\n",
       "      <td>59</td>\n",
       "      <td>1</td>\n",
       "      <td>1</td>\n",
       "      <td>1</td>\n",
       "      <td>2</td>\n",
       "      <td>1</td>\n",
       "      <td>2</td>\n",
       "      <td>1</td>\n",
       "      <td>2</td>\n",
       "      <td>1</td>\n",
       "      <td>2</td>\n",
       "      <td>2</td>\n",
       "      <td>1</td>\n",
       "      <td>2</td>\n",
       "      <td>NO</td>\n",
       "    </tr>\n",
       "    <tr>\n",
       "      <th>3</th>\n",
       "      <td>M</td>\n",
       "      <td>63</td>\n",
       "      <td>2</td>\n",
       "      <td>2</td>\n",
       "      <td>2</td>\n",
       "      <td>1</td>\n",
       "      <td>1</td>\n",
       "      <td>1</td>\n",
       "      <td>1</td>\n",
       "      <td>1</td>\n",
       "      <td>2</td>\n",
       "      <td>1</td>\n",
       "      <td>1</td>\n",
       "      <td>2</td>\n",
       "      <td>2</td>\n",
       "      <td>NO</td>\n",
       "    </tr>\n",
       "    <tr>\n",
       "      <th>4</th>\n",
       "      <td>F</td>\n",
       "      <td>63</td>\n",
       "      <td>1</td>\n",
       "      <td>2</td>\n",
       "      <td>1</td>\n",
       "      <td>1</td>\n",
       "      <td>1</td>\n",
       "      <td>1</td>\n",
       "      <td>1</td>\n",
       "      <td>2</td>\n",
       "      <td>1</td>\n",
       "      <td>2</td>\n",
       "      <td>2</td>\n",
       "      <td>1</td>\n",
       "      <td>1</td>\n",
       "      <td>NO</td>\n",
       "    </tr>\n",
       "  </tbody>\n",
       "</table>\n",
       "</div>"
      ],
      "text/plain": [
       "  GENDER  AGE  SMOKING  YELLOW_FINGERS  ANXIETY  PEER_PRESSURE  \\\n",
       "0      M   69        1               2        2              1   \n",
       "1      M   74        2               1        1              1   \n",
       "2      F   59        1               1        1              2   \n",
       "3      M   63        2               2        2              1   \n",
       "4      F   63        1               2        1              1   \n",
       "\n",
       "   CHRONIC DISEASE  FATIGUE   ALLERGY   WHEEZING  ALCOHOL CONSUMING  COUGHING  \\\n",
       "0                1         2         1         2                  2         2   \n",
       "1                2         2         2         1                  1         1   \n",
       "2                1         2         1         2                  1         2   \n",
       "3                1         1         1         1                  2         1   \n",
       "4                1         1         1         2                  1         2   \n",
       "\n",
       "   SHORTNESS OF BREATH  SWALLOWING DIFFICULTY  CHEST PAIN LUNG_CANCER  \n",
       "0                    2                      2           2         YES  \n",
       "1                    2                      2           2         YES  \n",
       "2                    2                      1           2          NO  \n",
       "3                    1                      2           2          NO  \n",
       "4                    2                      1           1          NO  "
      ]
     },
     "execution_count": 126,
     "metadata": {},
     "output_type": "execute_result"
    }
   ],
   "source": [
    "data = pd.read_csv(\"survey lung cancer.csv\")\n",
    "data.head()"
   ]
  },
  {
   "cell_type": "code",
   "execution_count": 127,
   "id": "2620b495",
   "metadata": {
    "execution": {
     "iopub.execute_input": "2022-06-13T09:07:00.038348Z",
     "iopub.status.busy": "2022-06-13T09:07:00.037963Z",
     "iopub.status.idle": "2022-06-13T09:07:00.052522Z",
     "shell.execute_reply": "2022-06-13T09:07:00.051593Z"
    },
    "papermill": {
     "duration": 0.028211,
     "end_time": "2022-06-13T09:07:00.054361",
     "exception": false,
     "start_time": "2022-06-13T09:07:00.026150",
     "status": "completed"
    },
    "tags": []
   },
   "outputs": [
    {
     "data": {
      "text/plain": [
       "(309, 16)"
      ]
     },
     "execution_count": 127,
     "metadata": {},
     "output_type": "execute_result"
    }
   ],
   "source": [
    "data.shape"
   ]
  },
  {
   "cell_type": "code",
   "execution_count": 128,
   "id": "f61e7ae8",
   "metadata": {
    "execution": {
     "iopub.execute_input": "2022-06-13T09:07:00.118522Z",
     "iopub.status.busy": "2022-06-13T09:07:00.118158Z",
     "iopub.status.idle": "2022-06-13T09:07:00.132221Z",
     "shell.execute_reply": "2022-06-13T09:07:00.131475Z"
    },
    "papermill": {
     "duration": 0.02862,
     "end_time": "2022-06-13T09:07:00.134151",
     "exception": false,
     "start_time": "2022-06-13T09:07:00.105531",
     "status": "completed"
    },
    "tags": []
   },
   "outputs": [
    {
     "data": {
      "text/plain": [
       "33"
      ]
     },
     "execution_count": 128,
     "metadata": {},
     "output_type": "execute_result"
    }
   ],
   "source": [
    "data.duplicated().sum()"
   ]
  },
  {
   "cell_type": "code",
   "execution_count": 129,
   "id": "414ad059",
   "metadata": {
    "execution": {
     "iopub.execute_input": "2022-06-13T09:07:00.158796Z",
     "iopub.status.busy": "2022-06-13T09:07:00.158089Z",
     "iopub.status.idle": "2022-06-13T09:07:00.165067Z",
     "shell.execute_reply": "2022-06-13T09:07:00.164409Z"
    },
    "papermill": {
     "duration": 0.02153,
     "end_time": "2022-06-13T09:07:00.167061",
     "exception": false,
     "start_time": "2022-06-13T09:07:00.145531",
     "status": "completed"
    },
    "tags": []
   },
   "outputs": [],
   "source": [
    "df = data.drop_duplicates()"
   ]
  },
  {
   "cell_type": "code",
   "execution_count": 130,
   "id": "169eaf43",
   "metadata": {
    "execution": {
     "iopub.execute_input": "2022-06-13T09:07:00.191545Z",
     "iopub.status.busy": "2022-06-13T09:07:00.190898Z",
     "iopub.status.idle": "2022-06-13T09:07:00.197027Z",
     "shell.execute_reply": "2022-06-13T09:07:00.196341Z"
    },
    "papermill": {
     "duration": 0.020478,
     "end_time": "2022-06-13T09:07:00.198969",
     "exception": false,
     "start_time": "2022-06-13T09:07:00.178491",
     "status": "completed"
    },
    "tags": []
   },
   "outputs": [
    {
     "data": {
      "text/plain": [
       "(276, 16)"
      ]
     },
     "execution_count": 130,
     "metadata": {},
     "output_type": "execute_result"
    }
   ],
   "source": [
    "df.shape"
   ]
  },
  {
   "cell_type": "code",
   "execution_count": 131,
   "id": "7bee74c8",
   "metadata": {
    "execution": {
     "iopub.execute_input": "2022-06-13T09:07:00.223869Z",
     "iopub.status.busy": "2022-06-13T09:07:00.223147Z",
     "iopub.status.idle": "2022-06-13T09:07:00.229631Z",
     "shell.execute_reply": "2022-06-13T09:07:00.228849Z"
    },
    "papermill": {
     "duration": 0.021079,
     "end_time": "2022-06-13T09:07:00.231562",
     "exception": false,
     "start_time": "2022-06-13T09:07:00.210483",
     "status": "completed"
    },
    "tags": []
   },
   "outputs": [
    {
     "data": {
      "text/plain": [
       "Index(['GENDER', 'AGE', 'SMOKING', 'YELLOW_FINGERS', 'ANXIETY',\n",
       "       'PEER_PRESSURE', 'CHRONIC DISEASE', 'FATIGUE ', 'ALLERGY ', 'WHEEZING',\n",
       "       'ALCOHOL CONSUMING', 'COUGHING', 'SHORTNESS OF BREATH',\n",
       "       'SWALLOWING DIFFICULTY', 'CHEST PAIN', 'LUNG_CANCER'],\n",
       "      dtype='object')"
      ]
     },
     "execution_count": 131,
     "metadata": {},
     "output_type": "execute_result"
    }
   ],
   "source": [
    "df.columns"
   ]
  },
  {
   "cell_type": "code",
   "execution_count": 132,
   "id": "3ed24b55",
   "metadata": {
    "execution": {
     "iopub.execute_input": "2022-06-13T09:07:00.256521Z",
     "iopub.status.busy": "2022-06-13T09:07:00.256045Z",
     "iopub.status.idle": "2022-06-13T09:07:00.273948Z",
     "shell.execute_reply": "2022-06-13T09:07:00.273014Z"
    },
    "papermill": {
     "duration": 0.033062,
     "end_time": "2022-06-13T09:07:00.276257",
     "exception": false,
     "start_time": "2022-06-13T09:07:00.243195",
     "status": "completed"
    },
    "tags": []
   },
   "outputs": [
    {
     "name": "stdout",
     "output_type": "stream",
     "text": [
      "<class 'pandas.core.frame.DataFrame'>\n",
      "Int64Index: 276 entries, 0 to 283\n",
      "Data columns (total 16 columns):\n",
      " #   Column                 Non-Null Count  Dtype \n",
      "---  ------                 --------------  ----- \n",
      " 0   GENDER                 276 non-null    object\n",
      " 1   AGE                    276 non-null    int64 \n",
      " 2   SMOKING                276 non-null    int64 \n",
      " 3   YELLOW_FINGERS         276 non-null    int64 \n",
      " 4   ANXIETY                276 non-null    int64 \n",
      " 5   PEER_PRESSURE          276 non-null    int64 \n",
      " 6   CHRONIC DISEASE        276 non-null    int64 \n",
      " 7   FATIGUE                276 non-null    int64 \n",
      " 8   ALLERGY                276 non-null    int64 \n",
      " 9   WHEEZING               276 non-null    int64 \n",
      " 10  ALCOHOL CONSUMING      276 non-null    int64 \n",
      " 11  COUGHING               276 non-null    int64 \n",
      " 12  SHORTNESS OF BREATH    276 non-null    int64 \n",
      " 13  SWALLOWING DIFFICULTY  276 non-null    int64 \n",
      " 14  CHEST PAIN             276 non-null    int64 \n",
      " 15  LUNG_CANCER            276 non-null    object\n",
      "dtypes: int64(14), object(2)\n",
      "memory usage: 36.7+ KB\n"
     ]
    }
   ],
   "source": [
    "df.info()"
   ]
  },
  {
   "cell_type": "code",
   "execution_count": 133,
   "id": "f84d6a9e",
   "metadata": {
    "execution": {
     "iopub.execute_input": "2022-06-13T09:07:00.302139Z",
     "iopub.status.busy": "2022-06-13T09:07:00.301131Z",
     "iopub.status.idle": "2022-06-13T09:07:00.354566Z",
     "shell.execute_reply": "2022-06-13T09:07:00.353547Z"
    },
    "papermill": {
     "duration": 0.068176,
     "end_time": "2022-06-13T09:07:00.356651",
     "exception": false,
     "start_time": "2022-06-13T09:07:00.288475",
     "status": "completed"
    },
    "tags": []
   },
   "outputs": [
    {
     "data": {
      "text/html": [
       "<div>\n",
       "<style scoped>\n",
       "    .dataframe tbody tr th:only-of-type {\n",
       "        vertical-align: middle;\n",
       "    }\n",
       "\n",
       "    .dataframe tbody tr th {\n",
       "        vertical-align: top;\n",
       "    }\n",
       "\n",
       "    .dataframe thead th {\n",
       "        text-align: right;\n",
       "    }\n",
       "</style>\n",
       "<table border=\"1\" class=\"dataframe\">\n",
       "  <thead>\n",
       "    <tr style=\"text-align: right;\">\n",
       "      <th></th>\n",
       "      <th>AGE</th>\n",
       "      <th>SMOKING</th>\n",
       "      <th>YELLOW_FINGERS</th>\n",
       "      <th>ANXIETY</th>\n",
       "      <th>PEER_PRESSURE</th>\n",
       "      <th>CHRONIC DISEASE</th>\n",
       "      <th>FATIGUE</th>\n",
       "      <th>ALLERGY</th>\n",
       "      <th>WHEEZING</th>\n",
       "      <th>ALCOHOL CONSUMING</th>\n",
       "      <th>COUGHING</th>\n",
       "      <th>SHORTNESS OF BREATH</th>\n",
       "      <th>SWALLOWING DIFFICULTY</th>\n",
       "      <th>CHEST PAIN</th>\n",
       "    </tr>\n",
       "  </thead>\n",
       "  <tbody>\n",
       "    <tr>\n",
       "      <th>count</th>\n",
       "      <td>276.000000</td>\n",
       "      <td>276.000000</td>\n",
       "      <td>276.000000</td>\n",
       "      <td>276.000000</td>\n",
       "      <td>276.000000</td>\n",
       "      <td>276.000000</td>\n",
       "      <td>276.000000</td>\n",
       "      <td>276.000000</td>\n",
       "      <td>276.000000</td>\n",
       "      <td>276.000000</td>\n",
       "      <td>276.000000</td>\n",
       "      <td>276.000000</td>\n",
       "      <td>276.000000</td>\n",
       "      <td>276.000000</td>\n",
       "    </tr>\n",
       "    <tr>\n",
       "      <th>mean</th>\n",
       "      <td>62.909420</td>\n",
       "      <td>1.543478</td>\n",
       "      <td>1.576087</td>\n",
       "      <td>1.496377</td>\n",
       "      <td>1.507246</td>\n",
       "      <td>1.521739</td>\n",
       "      <td>1.663043</td>\n",
       "      <td>1.547101</td>\n",
       "      <td>1.547101</td>\n",
       "      <td>1.550725</td>\n",
       "      <td>1.576087</td>\n",
       "      <td>1.630435</td>\n",
       "      <td>1.467391</td>\n",
       "      <td>1.557971</td>\n",
       "    </tr>\n",
       "    <tr>\n",
       "      <th>std</th>\n",
       "      <td>8.379355</td>\n",
       "      <td>0.499011</td>\n",
       "      <td>0.495075</td>\n",
       "      <td>0.500895</td>\n",
       "      <td>0.500856</td>\n",
       "      <td>0.500435</td>\n",
       "      <td>0.473529</td>\n",
       "      <td>0.498681</td>\n",
       "      <td>0.498681</td>\n",
       "      <td>0.498324</td>\n",
       "      <td>0.495075</td>\n",
       "      <td>0.483564</td>\n",
       "      <td>0.499842</td>\n",
       "      <td>0.497530</td>\n",
       "    </tr>\n",
       "    <tr>\n",
       "      <th>min</th>\n",
       "      <td>21.000000</td>\n",
       "      <td>1.000000</td>\n",
       "      <td>1.000000</td>\n",
       "      <td>1.000000</td>\n",
       "      <td>1.000000</td>\n",
       "      <td>1.000000</td>\n",
       "      <td>1.000000</td>\n",
       "      <td>1.000000</td>\n",
       "      <td>1.000000</td>\n",
       "      <td>1.000000</td>\n",
       "      <td>1.000000</td>\n",
       "      <td>1.000000</td>\n",
       "      <td>1.000000</td>\n",
       "      <td>1.000000</td>\n",
       "    </tr>\n",
       "    <tr>\n",
       "      <th>25%</th>\n",
       "      <td>57.750000</td>\n",
       "      <td>1.000000</td>\n",
       "      <td>1.000000</td>\n",
       "      <td>1.000000</td>\n",
       "      <td>1.000000</td>\n",
       "      <td>1.000000</td>\n",
       "      <td>1.000000</td>\n",
       "      <td>1.000000</td>\n",
       "      <td>1.000000</td>\n",
       "      <td>1.000000</td>\n",
       "      <td>1.000000</td>\n",
       "      <td>1.000000</td>\n",
       "      <td>1.000000</td>\n",
       "      <td>1.000000</td>\n",
       "    </tr>\n",
       "    <tr>\n",
       "      <th>50%</th>\n",
       "      <td>62.500000</td>\n",
       "      <td>2.000000</td>\n",
       "      <td>2.000000</td>\n",
       "      <td>1.000000</td>\n",
       "      <td>2.000000</td>\n",
       "      <td>2.000000</td>\n",
       "      <td>2.000000</td>\n",
       "      <td>2.000000</td>\n",
       "      <td>2.000000</td>\n",
       "      <td>2.000000</td>\n",
       "      <td>2.000000</td>\n",
       "      <td>2.000000</td>\n",
       "      <td>1.000000</td>\n",
       "      <td>2.000000</td>\n",
       "    </tr>\n",
       "    <tr>\n",
       "      <th>75%</th>\n",
       "      <td>69.000000</td>\n",
       "      <td>2.000000</td>\n",
       "      <td>2.000000</td>\n",
       "      <td>2.000000</td>\n",
       "      <td>2.000000</td>\n",
       "      <td>2.000000</td>\n",
       "      <td>2.000000</td>\n",
       "      <td>2.000000</td>\n",
       "      <td>2.000000</td>\n",
       "      <td>2.000000</td>\n",
       "      <td>2.000000</td>\n",
       "      <td>2.000000</td>\n",
       "      <td>2.000000</td>\n",
       "      <td>2.000000</td>\n",
       "    </tr>\n",
       "    <tr>\n",
       "      <th>max</th>\n",
       "      <td>87.000000</td>\n",
       "      <td>2.000000</td>\n",
       "      <td>2.000000</td>\n",
       "      <td>2.000000</td>\n",
       "      <td>2.000000</td>\n",
       "      <td>2.000000</td>\n",
       "      <td>2.000000</td>\n",
       "      <td>2.000000</td>\n",
       "      <td>2.000000</td>\n",
       "      <td>2.000000</td>\n",
       "      <td>2.000000</td>\n",
       "      <td>2.000000</td>\n",
       "      <td>2.000000</td>\n",
       "      <td>2.000000</td>\n",
       "    </tr>\n",
       "  </tbody>\n",
       "</table>\n",
       "</div>"
      ],
      "text/plain": [
       "              AGE     SMOKING  YELLOW_FINGERS     ANXIETY  PEER_PRESSURE  \\\n",
       "count  276.000000  276.000000      276.000000  276.000000     276.000000   \n",
       "mean    62.909420    1.543478        1.576087    1.496377       1.507246   \n",
       "std      8.379355    0.499011        0.495075    0.500895       0.500856   \n",
       "min     21.000000    1.000000        1.000000    1.000000       1.000000   \n",
       "25%     57.750000    1.000000        1.000000    1.000000       1.000000   \n",
       "50%     62.500000    2.000000        2.000000    1.000000       2.000000   \n",
       "75%     69.000000    2.000000        2.000000    2.000000       2.000000   \n",
       "max     87.000000    2.000000        2.000000    2.000000       2.000000   \n",
       "\n",
       "       CHRONIC DISEASE    FATIGUE     ALLERGY     WHEEZING  ALCOHOL CONSUMING  \\\n",
       "count       276.000000  276.000000  276.000000  276.000000         276.000000   \n",
       "mean          1.521739    1.663043    1.547101    1.547101           1.550725   \n",
       "std           0.500435    0.473529    0.498681    0.498681           0.498324   \n",
       "min           1.000000    1.000000    1.000000    1.000000           1.000000   \n",
       "25%           1.000000    1.000000    1.000000    1.000000           1.000000   \n",
       "50%           2.000000    2.000000    2.000000    2.000000           2.000000   \n",
       "75%           2.000000    2.000000    2.000000    2.000000           2.000000   \n",
       "max           2.000000    2.000000    2.000000    2.000000           2.000000   \n",
       "\n",
       "         COUGHING  SHORTNESS OF BREATH  SWALLOWING DIFFICULTY  CHEST PAIN  \n",
       "count  276.000000           276.000000             276.000000  276.000000  \n",
       "mean     1.576087             1.630435               1.467391    1.557971  \n",
       "std      0.495075             0.483564               0.499842    0.497530  \n",
       "min      1.000000             1.000000               1.000000    1.000000  \n",
       "25%      1.000000             1.000000               1.000000    1.000000  \n",
       "50%      2.000000             2.000000               1.000000    2.000000  \n",
       "75%      2.000000             2.000000               2.000000    2.000000  \n",
       "max      2.000000             2.000000               2.000000    2.000000  "
      ]
     },
     "execution_count": 133,
     "metadata": {},
     "output_type": "execute_result"
    }
   ],
   "source": [
    "df.describe()"
   ]
  },
  {
   "cell_type": "code",
   "execution_count": 134,
   "id": "a152acb9",
   "metadata": {
    "execution": {
     "iopub.execute_input": "2022-06-13T09:07:00.382733Z",
     "iopub.status.busy": "2022-06-13T09:07:00.382115Z",
     "iopub.status.idle": "2022-06-13T09:07:00.389816Z",
     "shell.execute_reply": "2022-06-13T09:07:00.388888Z"
    },
    "papermill": {
     "duration": 0.022962,
     "end_time": "2022-06-13T09:07:00.391651",
     "exception": false,
     "start_time": "2022-06-13T09:07:00.368689",
     "status": "completed"
    },
    "tags": []
   },
   "outputs": [
    {
     "data": {
      "text/plain": [
       "GENDER                   0\n",
       "AGE                      0\n",
       "SMOKING                  0\n",
       "YELLOW_FINGERS           0\n",
       "ANXIETY                  0\n",
       "PEER_PRESSURE            0\n",
       "CHRONIC DISEASE          0\n",
       "FATIGUE                  0\n",
       "ALLERGY                  0\n",
       "WHEEZING                 0\n",
       "ALCOHOL CONSUMING        0\n",
       "COUGHING                 0\n",
       "SHORTNESS OF BREATH      0\n",
       "SWALLOWING DIFFICULTY    0\n",
       "CHEST PAIN               0\n",
       "LUNG_CANCER              0\n",
       "dtype: int64"
      ]
     },
     "execution_count": 134,
     "metadata": {},
     "output_type": "execute_result"
    }
   ],
   "source": [
    "df.isnull().sum()"
   ]
  },
  {
   "cell_type": "markdown",
   "id": "0ce66548",
   "metadata": {
    "papermill": {
     "duration": 0.011873,
     "end_time": "2022-06-13T09:07:00.415794",
     "exception": false,
     "start_time": "2022-06-13T09:07:00.403921",
     "status": "completed"
    },
    "tags": []
   },
   "source": [
    "No null values present"
   ]
  },
  {
   "cell_type": "code",
   "execution_count": 135,
   "id": "243f9876",
   "metadata": {
    "execution": {
     "iopub.execute_input": "2022-06-13T09:07:00.441953Z",
     "iopub.status.busy": "2022-06-13T09:07:00.441339Z",
     "iopub.status.idle": "2022-06-13T09:07:00.449526Z",
     "shell.execute_reply": "2022-06-13T09:07:00.448706Z"
    },
    "papermill": {
     "duration": 0.023287,
     "end_time": "2022-06-13T09:07:00.451284",
     "exception": false,
     "start_time": "2022-06-13T09:07:00.427997",
     "status": "completed"
    },
    "tags": []
   },
   "outputs": [
    {
     "data": {
      "text/plain": [
       "GENDER                    2\n",
       "AGE                      39\n",
       "SMOKING                   2\n",
       "YELLOW_FINGERS            2\n",
       "ANXIETY                   2\n",
       "PEER_PRESSURE             2\n",
       "CHRONIC DISEASE           2\n",
       "FATIGUE                   2\n",
       "ALLERGY                   2\n",
       "WHEEZING                  2\n",
       "ALCOHOL CONSUMING         2\n",
       "COUGHING                  2\n",
       "SHORTNESS OF BREATH       2\n",
       "SWALLOWING DIFFICULTY     2\n",
       "CHEST PAIN                2\n",
       "LUNG_CANCER               2\n",
       "dtype: int64"
      ]
     },
     "execution_count": 135,
     "metadata": {},
     "output_type": "execute_result"
    }
   ],
   "source": [
    "df.nunique()"
   ]
  },
  {
   "cell_type": "markdown",
   "id": "137123f0",
   "metadata": {
    "papermill": {
     "duration": 0.012006,
     "end_time": "2022-06-13T09:07:00.475611",
     "exception": false,
     "start_time": "2022-06-13T09:07:00.463605",
     "status": "completed"
    },
    "tags": []
   },
   "source": [
    "## EDA"
   ]
  },
  {
   "cell_type": "code",
   "execution_count": 136,
   "id": "b536b5ce",
   "metadata": {
    "execution": {
     "iopub.execute_input": "2022-06-13T09:07:00.502318Z",
     "iopub.status.busy": "2022-06-13T09:07:00.501648Z",
     "iopub.status.idle": "2022-06-13T09:07:02.182964Z",
     "shell.execute_reply": "2022-06-13T09:07:02.182127Z"
    },
    "papermill": {
     "duration": 1.696952,
     "end_time": "2022-06-13T09:07:02.184906",
     "exception": false,
     "start_time": "2022-06-13T09:07:00.487954",
     "status": "completed"
    },
    "tags": []
   },
   "outputs": [
    {
     "data": {
      "image/png": "[encoded data removed]",
      "text/plain": [
       "<Figure size 720x1080 with 16 Axes>"
      ]
     },
     "metadata": {
      "needs_background": "light"
     },
     "output_type": "display_data"
    }
   ],
   "source": [
    "plot = df.hist(figsize=(10,15))"
   ]
  },
  {
   "cell_type": "code",
   "execution_count": 137,
   "id": "b9cc6675",
   "metadata": {
    "execution": {
     "iopub.execute_input": "2022-06-13T09:07:02.212927Z",
     "iopub.status.busy": "2022-06-13T09:07:02.212185Z",
     "iopub.status.idle": "2022-06-13T09:07:02.229371Z",
     "shell.execute_reply": "2022-06-13T09:07:02.228511Z"
    },
    "papermill": {
     "duration": 0.033127,
     "end_time": "2022-06-13T09:07:02.231330",
     "exception": false,
     "start_time": "2022-06-13T09:07:02.198203",
     "status": "completed"
    },
    "tags": []
   },
   "outputs": [
    {
     "data": {
      "text/html": [
       "<div>\n",
       "<style scoped>\n",
       "    .dataframe tbody tr th:only-of-type {\n",
       "        vertical-align: middle;\n",
       "    }\n",
       "\n",
       "    .dataframe tbody tr th {\n",
       "        vertical-align: top;\n",
       "    }\n",
       "\n",
       "    .dataframe thead th {\n",
       "        text-align: right;\n",
       "    }\n",
       "</style>\n",
       "<table border=\"1\" class=\"dataframe\">\n",
       "  <thead>\n",
       "    <tr style=\"text-align: right;\">\n",
       "      <th></th>\n",
       "      <th>GENDER</th>\n",
       "      <th>AGE</th>\n",
       "      <th>SMOKING</th>\n",
       "      <th>YELLOW_FINGERS</th>\n",
       "      <th>ANXIETY</th>\n",
       "      <th>PEER_PRESSURE</th>\n",
       "      <th>CHRONIC DISEASE</th>\n",
       "      <th>FATIGUE</th>\n",
       "      <th>ALLERGY</th>\n",
       "      <th>WHEEZING</th>\n",
       "      <th>ALCOHOL CONSUMING</th>\n",
       "      <th>COUGHING</th>\n",
       "      <th>SHORTNESS OF BREATH</th>\n",
       "      <th>SWALLOWING DIFFICULTY</th>\n",
       "      <th>CHEST PAIN</th>\n",
       "      <th>LUNG_CANCER</th>\n",
       "    </tr>\n",
       "  </thead>\n",
       "  <tbody>\n",
       "    <tr>\n",
       "      <th>0</th>\n",
       "      <td>0</td>\n",
       "      <td>69</td>\n",
       "      <td>1</td>\n",
       "      <td>2</td>\n",
       "      <td>2</td>\n",
       "      <td>1</td>\n",
       "      <td>1</td>\n",
       "      <td>2</td>\n",
       "      <td>1</td>\n",
       "      <td>2</td>\n",
       "      <td>2</td>\n",
       "      <td>2</td>\n",
       "      <td>2</td>\n",
       "      <td>2</td>\n",
       "      <td>2</td>\n",
       "      <td>1</td>\n",
       "    </tr>\n",
       "    <tr>\n",
       "      <th>1</th>\n",
       "      <td>0</td>\n",
       "      <td>74</td>\n",
       "      <td>2</td>\n",
       "      <td>1</td>\n",
       "      <td>1</td>\n",
       "      <td>1</td>\n",
       "      <td>2</td>\n",
       "      <td>2</td>\n",
       "      <td>2</td>\n",
       "      <td>1</td>\n",
       "      <td>1</td>\n",
       "      <td>1</td>\n",
       "      <td>2</td>\n",
       "      <td>2</td>\n",
       "      <td>2</td>\n",
       "      <td>1</td>\n",
       "    </tr>\n",
       "    <tr>\n",
       "      <th>2</th>\n",
       "      <td>1</td>\n",
       "      <td>59</td>\n",
       "      <td>1</td>\n",
       "      <td>1</td>\n",
       "      <td>1</td>\n",
       "      <td>2</td>\n",
       "      <td>1</td>\n",
       "      <td>2</td>\n",
       "      <td>1</td>\n",
       "      <td>2</td>\n",
       "      <td>1</td>\n",
       "      <td>2</td>\n",
       "      <td>2</td>\n",
       "      <td>1</td>\n",
       "      <td>2</td>\n",
       "      <td>0</td>\n",
       "    </tr>\n",
       "    <tr>\n",
       "      <th>3</th>\n",
       "      <td>0</td>\n",
       "      <td>63</td>\n",
       "      <td>2</td>\n",
       "      <td>2</td>\n",
       "      <td>2</td>\n",
       "      <td>1</td>\n",
       "      <td>1</td>\n",
       "      <td>1</td>\n",
       "      <td>1</td>\n",
       "      <td>1</td>\n",
       "      <td>2</td>\n",
       "      <td>1</td>\n",
       "      <td>1</td>\n",
       "      <td>2</td>\n",
       "      <td>2</td>\n",
       "      <td>0</td>\n",
       "    </tr>\n",
       "    <tr>\n",
       "      <th>4</th>\n",
       "      <td>1</td>\n",
       "      <td>63</td>\n",
       "      <td>1</td>\n",
       "      <td>2</td>\n",
       "      <td>1</td>\n",
       "      <td>1</td>\n",
       "      <td>1</td>\n",
       "      <td>1</td>\n",
       "      <td>1</td>\n",
       "      <td>2</td>\n",
       "      <td>1</td>\n",
       "      <td>2</td>\n",
       "      <td>2</td>\n",
       "      <td>1</td>\n",
       "      <td>1</td>\n",
       "      <td>0</td>\n",
       "    </tr>\n",
       "  </tbody>\n",
       "</table>\n",
       "</div>"
      ],
      "text/plain": [
       "   GENDER  AGE  SMOKING  YELLOW_FINGERS  ANXIETY  PEER_PRESSURE  \\\n",
       "0       0   69        1               2        2              1   \n",
       "1       0   74        2               1        1              1   \n",
       "2       1   59        1               1        1              2   \n",
       "3       0   63        2               2        2              1   \n",
       "4       1   63        1               2        1              1   \n",
       "\n",
       "   CHRONIC DISEASE  FATIGUE   ALLERGY   WHEEZING  ALCOHOL CONSUMING  COUGHING  \\\n",
       "0                1         2         1         2                  2         2   \n",
       "1                2         2         2         1                  1         1   \n",
       "2                1         2         1         2                  1         2   \n",
       "3                1         1         1         1                  2         1   \n",
       "4                1         1         1         2                  1         2   \n",
       "\n",
       "   SHORTNESS OF BREATH  SWALLOWING DIFFICULTY  CHEST PAIN  LUNG_CANCER  \n",
       "0                    2                      2           2            1  \n",
       "1                    2                      2           2            1  \n",
       "2                    2                      1           2            0  \n",
       "3                    1                      2           2            0  \n",
       "4                    2                      1           1            0  "
      ]
     },
     "execution_count": 137,
     "metadata": {},
     "output_type": "execute_result"
    }
   ],
   "source": [
    "df1 = df.replace({\"M\":0, \"F\":1, \"NO\":0, \"YES\":1})\n",
    "df1.head()"
   ]
  },
  {
   "cell_type": "markdown",
   "id": "d5dd4873",
   "metadata": {
    "papermill": {
     "duration": 0.013059,
     "end_time": "2022-06-13T09:07:02.257838",
     "exception": false,
     "start_time": "2022-06-13T09:07:02.244779",
     "status": "completed"
    },
    "tags": []
   },
   "source": [
    "## Handling outliers"
   ]
  },
  {
   "cell_type": "code",
   "execution_count": 138,
   "id": "d52f03d1",
   "metadata": {
    "execution": {
     "iopub.execute_input": "2022-06-13T09:07:02.286465Z",
     "iopub.status.busy": "2022-06-13T09:07:02.285643Z",
     "iopub.status.idle": "2022-06-13T09:07:04.603174Z",
     "shell.execute_reply": "2022-06-13T09:07:04.602190Z"
    },
    "papermill": {
     "duration": 2.333937,
     "end_time": "2022-06-13T09:07:04.605193",
     "exception": false,
     "start_time": "2022-06-13T09:07:02.271256",
     "status": "completed"
    },
    "tags": []
   },
   "outputs": [
    {
     "data": {
      "image/png": "[encoded data removed]",
      "text/plain": [
       "<Figure size 720x360 with 1 Axes>"
      ]
     },
     "metadata": {
      "needs_background": "light"
     },
     "output_type": "display_data"
    },
    {
     "data": {
      "image/png": "[encoded data removed]",
      "text/plain": [
       "<Figure size 720x360 with 1 Axes>"
      ]
     },
     "metadata": {
      "needs_background": "light"
     },
     "output_type": "display_data"
    },
    {
     "data": {
      "image/png": "[encoded data removed]",
      "text/plain": [
       "<Figure size 720x360 with 1 Axes>"
      ]
     },
     "metadata": {
      "needs_background": "light"
     },
     "output_type": "display_data"
    },
    {
     "data": {
      "image/png": "[encoded data removed]",
      "text/plain": [
       "<Figure size 720x360 with 1 Axes>"
      ]
     },
     "metadata": {
      "needs_background": "light"
     },
     "output_type": "display_data"
    },
    {
     "data": {
      "image/png": "[encoded data removed]",
      "text/plain": [
       "<Figure size 720x360 with 1 Axes>"
      ]
     },
     "metadata": {
      "needs_background": "light"
     },
     "output_type": "display_data"
    },
    {
     "data": {
      "image/png": "[encoded data removed]",
      "text/plain": [
       "<Figure size 720x360 with 1 Axes>"
      ]
     },
     "metadata": {
      "needs_background": "light"
     },
     "output_type": "display_data"
    },
    {
     "data": {
      "image/png": "[encoded data removed]",
      "text/plain": [
       "<Figure size 720x360 with 1 Axes>"
      ]
     },
     "metadata": {
      "needs_background": "light"
     },
     "output_type": "display_data"
    },
    {
     "data": {
      "image/png": "[encoded data removed]",
      "text/plain": [
       "<Figure size 720x360 with 1 Axes>"
      ]
     },
     "metadata": {
      "needs_background": "light"
     },
     "output_type": "display_data"
    },
    {
     "data": {
      "image/png": "[encoded data removed]",
      "text/plain": [
       "<Figure size 720x360 with 1 Axes>"
      ]
     },
     "metadata": {
      "needs_background": "light"
     },
     "output_type": "display_data"
    },
    {
     "data": {
      "image/png": "[encoded data removed]",
      "text/plain": [
       "<Figure size 720x360 with 1 Axes>"
      ]
     },
     "metadata": {
      "needs_background": "light"
     },
     "output_type": "display_data"
    },
    {
     "data": {
      "image/png": "[encoded data removed]",
      "text/plain": [
       "<Figure size 720x360 with 1 Axes>"
      ]
     },
     "metadata": {
      "needs_background": "light"
     },
     "output_type": "display_data"
    },
    {
     "data": {
      "image/png": "[encoded data removed]",
      "text/plain": [
       "<Figure size 720x360 with 1 Axes>"
      ]
     },
     "metadata": {
      "needs_background": "light"
     },
     "output_type": "display_data"
    },
    {
     "data": {
      "image/png": "[encoded data removed]",
      "text/plain": [
       "<Figure size 720x360 with 1 Axes>"
      ]
     },
     "metadata": {
      "needs_background": "light"
     },
     "output_type": "display_data"
    },
    {
     "data": {
      "image/png": "[encoded data removed]",
      "text/plain": [
       "<Figure size 720x360 with 1 Axes>"
      ]
     },
     "metadata": {
      "needs_background": "light"
     },
     "output_type": "display_data"
    },
    {
     "data": {
      "image/png": "[encoded data removed]",
      "text/plain": [
       "<Figure size 720x360 with 1 Axes>"
      ]
     },
     "metadata": {
      "needs_background": "light"
     },
     "output_type": "display_data"
    }
   ],
   "source": [
    "for column in df.columns[0:-1]:\n",
    "    plt.figure(figsize=(10,5))\n",
    "    sns.boxplot(x=(column),data=df1)"
   ]
  },
  {
   "cell_type": "code",
   "execution_count": 139,
   "id": "66492237",
   "metadata": {
    "execution": {
     "iopub.execute_input": "2022-06-13T09:07:04.638937Z",
     "iopub.status.busy": "2022-06-13T09:07:04.638575Z",
     "iopub.status.idle": "2022-06-13T09:07:04.653318Z",
     "shell.execute_reply": "2022-06-13T09:07:04.652465Z"
    },
    "papermill": {
     "duration": 0.033729,
     "end_time": "2022-06-13T09:07:04.655084",
     "exception": false,
     "start_time": "2022-06-13T09:07:04.621355",
     "status": "completed"
    },
    "tags": []
   },
   "outputs": [
    {
     "data": {
      "text/plain": [
       "0      69.0\n",
       "1      74.0\n",
       "2      59.0\n",
       "3      63.0\n",
       "4      63.0\n",
       "       ... \n",
       "279    59.0\n",
       "280    59.0\n",
       "281    55.0\n",
       "282    46.0\n",
       "283    60.0\n",
       "Name: AGE, Length: 276, dtype: float64"
      ]
     },
     "execution_count": 139,
     "metadata": {},
     "output_type": "execute_result"
    }
   ],
   "source": [
    "df1_age = df1[\"AGE\"]\n",
    "q1=df1[\"AGE\"].quantile(0.25)\n",
    "q3=df1[\"AGE\"].quantile(0.75)\n",
    "iqr=q3-q1\n",
    "lower_limit=q1-(1.5*iqr)\n",
    "upper_limit=q3+(1.5*iqr)\n",
    "df1[\"AGE\"]=np.where(df1[\"AGE\"]<=lower_limit,lower_limit,df1[\"AGE\"])\n",
    "df1[\"AGE\"]=np.where(df1[\"AGE\"]>=upper_limit,upper_limit,df1[\"AGE\"])\n",
    "df1[\"AGE\"]"
   ]
  },
  {
   "cell_type": "code",
   "execution_count": 140,
   "id": "5be92887",
   "metadata": {
    "execution": {
     "iopub.execute_input": "2022-06-13T09:07:04.689849Z",
     "iopub.status.busy": "2022-06-13T09:07:04.689237Z",
     "iopub.status.idle": "2022-06-13T09:07:06.895079Z",
     "shell.execute_reply": "2022-06-13T09:07:06.894357Z"
    },
    "papermill": {
     "duration": 2.225337,
     "end_time": "2022-06-13T09:07:06.897164",
     "exception": false,
     "start_time": "2022-06-13T09:07:04.671827",
     "status": "completed"
    },
    "tags": []
   },
   "outputs": [
    {
     "data": {
      "image/png": "[encoded data removed]",
      "text/plain": [
       "<Figure size 720x360 with 1 Axes>"
      ]
     },
     "metadata": {
      "needs_background": "light"
     },
     "output_type": "display_data"
    },
    {
     "data": {
      "image/png": "[encoded data removed]",
      "text/plain": [
       "<Figure size 720x360 with 1 Axes>"
      ]
     },
     "metadata": {
      "needs_background": "light"
     },
     "output_type": "display_data"
    },
    {
     "data": {
      "image/png": "[encoded data removed]",
      "text/plain": [
       "<Figure size 720x360 with 1 Axes>"
      ]
     },
     "metadata": {
      "needs_background": "light"
     },
     "output_type": "display_data"
    },
    {
     "data": {
      "image/png": "[encoded data removed]",
      "text/plain": [
       "<Figure size 720x360 with 1 Axes>"
      ]
     },
     "metadata": {
      "needs_background": "light"
     },
     "output_type": "display_data"
    },
    {
     "data": {
      "image/png": "[encoded data removed]",
      "text/plain": [
       "<Figure size 720x360 with 1 Axes>"
      ]
     },
     "metadata": {
      "needs_background": "light"
     },
     "output_type": "display_data"
    },
    {
     "data": {
      "image/png": "[encoded data removed]",
      "text/plain": [
       "<Figure size 720x360 with 1 Axes>"
      ]
     },
     "metadata": {
      "needs_background": "light"
     },
     "output_type": "display_data"
    },
    {
     "data": {
      "image/png": "[encoded data removed]",
      "text/plain": [
       "<Figure size 720x360 with 1 Axes>"
      ]
     },
     "metadata": {
      "needs_background": "light"
     },
     "output_type": "display_data"
    },
    {
     "data": {
      "image/png": "[encoded data removed]",
      "text/plain": [
       "<Figure size 720x360 with 1 Axes>"
      ]
     },
     "metadata": {
      "needs_background": "light"
     },
     "output_type": "display_data"
    },
    {
     "data": {
      "image/png": "[encoded data removed]",
      "text/plain": [
       "<Figure size 720x360 with 1 Axes>"
      ]
     },
     "metadata": {
      "needs_background": "light"
     },
     "output_type": "display_data"
    },
    {
     "data": {
      "image/png": "[encoded data removed]",
      "text/plain": [
       "<Figure size 720x360 with 1 Axes>"
      ]
     },
     "metadata": {
      "needs_background": "light"
     },
     "output_type": "display_data"
    },
    {
     "data": {
      "image/png": "[encoded data removed]",
      "text/plain": [
       "<Figure size 720x360 with 1 Axes>"
      ]
     },
     "metadata": {
      "needs_background": "light"
     },
     "output_type": "display_data"
    },
    {
     "data": {
      "image/png": "[encoded data removed]",
      "text/plain": [
       "<Figure size 720x360 with 1 Axes>"
      ]
     },
     "metadata": {
      "needs_background": "light"
     },
     "output_type": "display_data"
    },
    {
     "data": {
      "image/png": "[encoded data removed]",
      "text/plain": [
       "<Figure size 720x360 with 1 Axes>"
      ]
     },
     "metadata": {
      "needs_background": "light"
     },
     "output_type": "display_data"
    },
    {
     "data": {
      "image/png": "[encoded data removed]",
      "text/plain": [
       "<Figure size 720x360 with 1 Axes>"
      ]
     },
     "metadata": {
      "needs_background": "light"
     },
     "output_type": "display_data"
    },
    {
     "data": {
      "image/png": "[encoded data removed]",
      "text/plain": [
       "<Figure size 720x360 with 1 Axes>"
      ]
     },
     "metadata": {
      "needs_background": "light"
     },
     "output_type": "display_data"
    }
   ],
   "source": [
    "for column in df.columns[0:-1]:\n",
    "    plt.figure(figsize=(10,5))\n",
    "    sns.boxplot(x=(column),data=df1)"
   ]
  },
  {
   "cell_type": "code",
   "execution_count": 141,
   "id": "279d4fd8",
   "metadata": {
    "execution": {
     "iopub.execute_input": "2022-06-13T09:07:57.167926Z",
     "iopub.status.busy": "2022-06-13T09:07:57.167516Z",
     "iopub.status.idle": "2022-06-13T09:07:57.175016Z",
     "shell.execute_reply": "2022-06-13T09:07:57.174414Z"
    },
    "papermill": {
     "duration": 0.033156,
     "end_time": "2022-06-13T09:07:57.176764",
     "exception": false,
     "start_time": "2022-06-13T09:07:57.143608",
     "status": "completed"
    },
    "tags": []
   },
   "outputs": [
    {
     "data": {
      "text/plain": [
       "LUNG_CANCER\n",
       "1    238\n",
       "0     38\n",
       "dtype: int64"
      ]
     },
     "execution_count": 141,
     "metadata": {},
     "output_type": "execute_result"
    }
   ],
   "source": [
    "df1.value_counts(\"LUNG_CANCER\")"
   ]
  },
  {
   "cell_type": "code",
   "execution_count": 142,
   "id": "4c9173d3",
   "metadata": {
    "execution": {
     "iopub.execute_input": "2022-06-13T09:07:57.223985Z",
     "iopub.status.busy": "2022-06-13T09:07:57.223541Z",
     "iopub.status.idle": "2022-06-13T09:07:58.545998Z",
     "shell.execute_reply": "2022-06-13T09:07:58.545011Z"
    },
    "papermill": {
     "duration": 1.350412,
     "end_time": "2022-06-13T09:07:58.549822",
     "exception": false,
     "start_time": "2022-06-13T09:07:57.199410",
     "status": "completed"
    },
    "scrolled": true,
    "tags": []
   },
   "outputs": [
    {
     "data": {
      "image/png": "[encoded data removed]",
      "text/plain": [
       "<Figure size 720x720 with 2 Axes>"
      ]
     },
     "metadata": {
      "needs_background": "light"
     },
     "output_type": "display_data"
    }
   ],
   "source": [
    "corr = df1.corr()\n",
    "features = corr.index\n",
    "plt.figure(figsize=(10,10))\n",
    "ax = sns.heatmap(df1[features].corr(), annot=True, cmap='RdYlGn')"
   ]
  },
  {
   "cell_type": "markdown",
   "id": "cf5fed59",
   "metadata": {
    "papermill": {
     "duration": 0.024782,
     "end_time": "2022-06-13T09:07:58.599954",
     "exception": false,
     "start_time": "2022-06-13T09:07:58.575172",
     "status": "completed"
    },
    "tags": []
   },
   "source": [
    "## Train Test Split"
   ]
  },
  {
   "cell_type": "code",
   "execution_count": 143,
   "id": "0117a128",
   "metadata": {
    "execution": {
     "iopub.execute_input": "2022-06-13T09:07:58.652800Z",
     "iopub.status.busy": "2022-06-13T09:07:58.651722Z",
     "iopub.status.idle": "2022-06-13T09:07:58.657245Z",
     "shell.execute_reply": "2022-06-13T09:07:58.656588Z"
    },
    "papermill": {
     "duration": 0.03399,
     "end_time": "2022-06-13T09:07:58.659120",
     "exception": false,
     "start_time": "2022-06-13T09:07:58.625130",
     "status": "completed"
    },
    "tags": []
   },
   "outputs": [],
   "source": [
    "y = df1[\"LUNG_CANCER\"]\n",
    "X = df1.drop([\"LUNG_CANCER\"],axis =1)"
   ]
  },
  {
   "cell_type": "code",
   "execution_count": 144,
   "id": "1fc4fba6",
   "metadata": {
    "execution": {
     "iopub.execute_input": "2022-06-13T09:07:58.711880Z",
     "iopub.status.busy": "2022-06-13T09:07:58.711477Z",
     "iopub.status.idle": "2022-06-13T09:07:58.909132Z",
     "shell.execute_reply": "2022-06-13T09:07:58.908149Z"
    },
    "papermill": {
     "duration": 0.227079,
     "end_time": "2022-06-13T09:07:58.911622",
     "exception": false,
     "start_time": "2022-06-13T09:07:58.684543",
     "status": "completed"
    },
    "tags": []
   },
   "outputs": [],
   "source": [
    "from sklearn.model_selection import train_test_split\n",
    "\n",
    "X_train,X_test,y_train,y_test = train_test_split(X, y, test_size=0.2, shuffle=True, random_state = 42)"
   ]
  },
  {
   "cell_type": "code",
   "execution_count": 145,
   "id": "1c61793f",
   "metadata": {
    "execution": {
     "iopub.execute_input": "2022-06-13T09:07:58.963405Z",
     "iopub.status.busy": "2022-06-13T09:07:58.962966Z",
     "iopub.status.idle": "2022-06-13T09:07:58.967747Z",
     "shell.execute_reply": "2022-06-13T09:07:58.967015Z"
    },
    "papermill": {
     "duration": 0.034425,
     "end_time": "2022-06-13T09:07:58.971243",
     "exception": false,
     "start_time": "2022-06-13T09:07:58.936818",
     "status": "completed"
    },
    "tags": []
   },
   "outputs": [
    {
     "name": "stdout",
     "output_type": "stream",
     "text": [
      "X train shape: (220, 15) Y train shape: (220,)\n"
     ]
    }
   ],
   "source": [
    "print(\"X train shape:\" ,X_train.shape, \"Y train shape:\", y_train.shape )"
   ]
  },
  {
   "cell_type": "code",
   "execution_count": 146,
   "id": "196fbdd2",
   "metadata": {
    "execution": {
     "iopub.execute_input": "2022-06-13T09:07:59.025004Z",
     "iopub.status.busy": "2022-06-13T09:07:59.024325Z",
     "iopub.status.idle": "2022-06-13T09:07:59.029256Z",
     "shell.execute_reply": "2022-06-13T09:07:59.028598Z"
    },
    "papermill": {
     "duration": 0.034163,
     "end_time": "2022-06-13T09:07:59.032210",
     "exception": false,
     "start_time": "2022-06-13T09:07:58.998047",
     "status": "completed"
    },
    "tags": []
   },
   "outputs": [
    {
     "name": "stdout",
     "output_type": "stream",
     "text": [
      "X test shape: (56, 15) Y test shape: (56,)\n"
     ]
    }
   ],
   "source": [
    "print(\"X test shape:\" ,X_test.shape, \"Y test shape:\", y_test.shape )"
   ]
  },
  {
   "cell_type": "markdown",
   "id": "d2daeb41",
   "metadata": {
    "papermill": {
     "duration": 0.024906,
     "end_time": "2022-06-13T09:07:59.082928",
     "exception": false,
     "start_time": "2022-06-13T09:07:59.058022",
     "status": "completed"
    },
    "tags": []
   },
   "source": [
    "## Feature Scaling"
   ]
  },
  {
   "cell_type": "code",
   "execution_count": 147,
   "id": "70a5344a",
   "metadata": {
    "execution": {
     "iopub.execute_input": "2022-06-13T09:07:59.135161Z",
     "iopub.status.busy": "2022-06-13T09:07:59.134743Z",
     "iopub.status.idle": "2022-06-13T09:07:59.172493Z",
     "shell.execute_reply": "2022-06-13T09:07:59.171814Z"
    },
    "papermill": {
     "duration": 0.066114,
     "end_time": "2022-06-13T09:07:59.174323",
     "exception": false,
     "start_time": "2022-06-13T09:07:59.108209",
     "status": "completed"
    },
    "tags": []
   },
   "outputs": [
    {
     "data": {
      "text/html": [
       "<div>\n",
       "<style scoped>\n",
       "    .dataframe tbody tr th:only-of-type {\n",
       "        vertical-align: middle;\n",
       "    }\n",
       "\n",
       "    .dataframe tbody tr th {\n",
       "        vertical-align: top;\n",
       "    }\n",
       "\n",
       "    .dataframe thead th {\n",
       "        text-align: right;\n",
       "    }\n",
       "</style>\n",
       "<table border=\"1\" class=\"dataframe\">\n",
       "  <thead>\n",
       "    <tr style=\"text-align: right;\">\n",
       "      <th></th>\n",
       "      <th>GENDER</th>\n",
       "      <th>AGE</th>\n",
       "      <th>SMOKING</th>\n",
       "      <th>YELLOW_FINGERS</th>\n",
       "      <th>ANXIETY</th>\n",
       "      <th>PEER_PRESSURE</th>\n",
       "      <th>CHRONIC DISEASE</th>\n",
       "      <th>FATIGUE</th>\n",
       "      <th>ALLERGY</th>\n",
       "      <th>WHEEZING</th>\n",
       "      <th>ALCOHOL CONSUMING</th>\n",
       "      <th>COUGHING</th>\n",
       "      <th>SHORTNESS OF BREATH</th>\n",
       "      <th>SWALLOWING DIFFICULTY</th>\n",
       "      <th>CHEST PAIN</th>\n",
       "    </tr>\n",
       "  </thead>\n",
       "  <tbody>\n",
       "    <tr>\n",
       "      <th>0</th>\n",
       "      <td>1.0</td>\n",
       "      <td>0.425000</td>\n",
       "      <td>1.0</td>\n",
       "      <td>1.0</td>\n",
       "      <td>1.0</td>\n",
       "      <td>1.0</td>\n",
       "      <td>0.0</td>\n",
       "      <td>1.0</td>\n",
       "      <td>1.0</td>\n",
       "      <td>0.0</td>\n",
       "      <td>0.0</td>\n",
       "      <td>0.0</td>\n",
       "      <td>1.0</td>\n",
       "      <td>1.0</td>\n",
       "      <td>0.0</td>\n",
       "    </tr>\n",
       "    <tr>\n",
       "      <th>1</th>\n",
       "      <td>1.0</td>\n",
       "      <td>0.000000</td>\n",
       "      <td>0.0</td>\n",
       "      <td>1.0</td>\n",
       "      <td>0.0</td>\n",
       "      <td>0.0</td>\n",
       "      <td>1.0</td>\n",
       "      <td>1.0</td>\n",
       "      <td>1.0</td>\n",
       "      <td>1.0</td>\n",
       "      <td>0.0</td>\n",
       "      <td>1.0</td>\n",
       "      <td>1.0</td>\n",
       "      <td>0.0</td>\n",
       "      <td>1.0</td>\n",
       "    </tr>\n",
       "    <tr>\n",
       "      <th>2</th>\n",
       "      <td>1.0</td>\n",
       "      <td>0.580556</td>\n",
       "      <td>1.0</td>\n",
       "      <td>1.0</td>\n",
       "      <td>1.0</td>\n",
       "      <td>0.0</td>\n",
       "      <td>1.0</td>\n",
       "      <td>0.0</td>\n",
       "      <td>0.0</td>\n",
       "      <td>0.0</td>\n",
       "      <td>0.0</td>\n",
       "      <td>0.0</td>\n",
       "      <td>1.0</td>\n",
       "      <td>1.0</td>\n",
       "      <td>1.0</td>\n",
       "    </tr>\n",
       "    <tr>\n",
       "      <th>3</th>\n",
       "      <td>1.0</td>\n",
       "      <td>0.313889</td>\n",
       "      <td>0.0</td>\n",
       "      <td>0.0</td>\n",
       "      <td>0.0</td>\n",
       "      <td>1.0</td>\n",
       "      <td>1.0</td>\n",
       "      <td>1.0</td>\n",
       "      <td>1.0</td>\n",
       "      <td>1.0</td>\n",
       "      <td>1.0</td>\n",
       "      <td>0.0</td>\n",
       "      <td>0.0</td>\n",
       "      <td>0.0</td>\n",
       "      <td>1.0</td>\n",
       "    </tr>\n",
       "    <tr>\n",
       "      <th>4</th>\n",
       "      <td>0.0</td>\n",
       "      <td>0.469444</td>\n",
       "      <td>0.0</td>\n",
       "      <td>0.0</td>\n",
       "      <td>0.0</td>\n",
       "      <td>1.0</td>\n",
       "      <td>0.0</td>\n",
       "      <td>1.0</td>\n",
       "      <td>1.0</td>\n",
       "      <td>1.0</td>\n",
       "      <td>1.0</td>\n",
       "      <td>0.0</td>\n",
       "      <td>0.0</td>\n",
       "      <td>1.0</td>\n",
       "      <td>0.0</td>\n",
       "    </tr>\n",
       "    <tr>\n",
       "      <th>...</th>\n",
       "      <td>...</td>\n",
       "      <td>...</td>\n",
       "      <td>...</td>\n",
       "      <td>...</td>\n",
       "      <td>...</td>\n",
       "      <td>...</td>\n",
       "      <td>...</td>\n",
       "      <td>...</td>\n",
       "      <td>...</td>\n",
       "      <td>...</td>\n",
       "      <td>...</td>\n",
       "      <td>...</td>\n",
       "      <td>...</td>\n",
       "      <td>...</td>\n",
       "      <td>...</td>\n",
       "    </tr>\n",
       "    <tr>\n",
       "      <th>215</th>\n",
       "      <td>1.0</td>\n",
       "      <td>0.313889</td>\n",
       "      <td>1.0</td>\n",
       "      <td>1.0</td>\n",
       "      <td>1.0</td>\n",
       "      <td>1.0</td>\n",
       "      <td>1.0</td>\n",
       "      <td>1.0</td>\n",
       "      <td>0.0</td>\n",
       "      <td>0.0</td>\n",
       "      <td>0.0</td>\n",
       "      <td>0.0</td>\n",
       "      <td>0.0</td>\n",
       "      <td>0.0</td>\n",
       "      <td>0.0</td>\n",
       "    </tr>\n",
       "    <tr>\n",
       "      <th>216</th>\n",
       "      <td>1.0</td>\n",
       "      <td>0.558333</td>\n",
       "      <td>1.0</td>\n",
       "      <td>1.0</td>\n",
       "      <td>1.0</td>\n",
       "      <td>1.0</td>\n",
       "      <td>0.0</td>\n",
       "      <td>1.0</td>\n",
       "      <td>0.0</td>\n",
       "      <td>1.0</td>\n",
       "      <td>0.0</td>\n",
       "      <td>1.0</td>\n",
       "      <td>1.0</td>\n",
       "      <td>1.0</td>\n",
       "      <td>0.0</td>\n",
       "    </tr>\n",
       "    <tr>\n",
       "      <th>217</th>\n",
       "      <td>1.0</td>\n",
       "      <td>0.180556</td>\n",
       "      <td>0.0</td>\n",
       "      <td>0.0</td>\n",
       "      <td>0.0</td>\n",
       "      <td>1.0</td>\n",
       "      <td>1.0</td>\n",
       "      <td>0.0</td>\n",
       "      <td>1.0</td>\n",
       "      <td>0.0</td>\n",
       "      <td>1.0</td>\n",
       "      <td>1.0</td>\n",
       "      <td>1.0</td>\n",
       "      <td>0.0</td>\n",
       "      <td>0.0</td>\n",
       "    </tr>\n",
       "    <tr>\n",
       "      <th>218</th>\n",
       "      <td>1.0</td>\n",
       "      <td>0.802778</td>\n",
       "      <td>1.0</td>\n",
       "      <td>1.0</td>\n",
       "      <td>1.0</td>\n",
       "      <td>1.0</td>\n",
       "      <td>1.0</td>\n",
       "      <td>1.0</td>\n",
       "      <td>0.0</td>\n",
       "      <td>0.0</td>\n",
       "      <td>0.0</td>\n",
       "      <td>0.0</td>\n",
       "      <td>1.0</td>\n",
       "      <td>1.0</td>\n",
       "      <td>0.0</td>\n",
       "    </tr>\n",
       "    <tr>\n",
       "      <th>219</th>\n",
       "      <td>1.0</td>\n",
       "      <td>0.691667</td>\n",
       "      <td>1.0</td>\n",
       "      <td>1.0</td>\n",
       "      <td>1.0</td>\n",
       "      <td>1.0</td>\n",
       "      <td>0.0</td>\n",
       "      <td>1.0</td>\n",
       "      <td>0.0</td>\n",
       "      <td>0.0</td>\n",
       "      <td>0.0</td>\n",
       "      <td>1.0</td>\n",
       "      <td>1.0</td>\n",
       "      <td>1.0</td>\n",
       "      <td>1.0</td>\n",
       "    </tr>\n",
       "  </tbody>\n",
       "</table>\n",
       "<p>220 rows × 15 columns</p>\n",
       "</div>"
      ],
      "text/plain": [
       "     GENDER       AGE  SMOKING  YELLOW_FINGERS  ANXIETY  PEER_PRESSURE  \\\n",
       "0       1.0  0.425000      1.0             1.0      1.0            1.0   \n",
       "1       1.0  0.000000      0.0             1.0      0.0            0.0   \n",
       "2       1.0  0.580556      1.0             1.0      1.0            0.0   \n",
       "3       1.0  0.313889      0.0             0.0      0.0            1.0   \n",
       "4       0.0  0.469444      0.0             0.0      0.0            1.0   \n",
       "..      ...       ...      ...             ...      ...            ...   \n",
       "215     1.0  0.313889      1.0             1.0      1.0            1.0   \n",
       "216     1.0  0.558333      1.0             1.0      1.0            1.0   \n",
       "217     1.0  0.180556      0.0             0.0      0.0            1.0   \n",
       "218     1.0  0.802778      1.0             1.0      1.0            1.0   \n",
       "219     1.0  0.691667      1.0             1.0      1.0            1.0   \n",
       "\n",
       "     CHRONIC DISEASE  FATIGUE   ALLERGY   WHEEZING  ALCOHOL CONSUMING  \\\n",
       "0                0.0       1.0       1.0       0.0                0.0   \n",
       "1                1.0       1.0       1.0       1.0                0.0   \n",
       "2                1.0       0.0       0.0       0.0                0.0   \n",
       "3                1.0       1.0       1.0       1.0                1.0   \n",
       "4                0.0       1.0       1.0       1.0                1.0   \n",
       "..               ...       ...       ...       ...                ...   \n",
       "215              1.0       1.0       0.0       0.0                0.0   \n",
       "216              0.0       1.0       0.0       1.0                0.0   \n",
       "217              1.0       0.0       1.0       0.0                1.0   \n",
       "218              1.0       1.0       0.0       0.0                0.0   \n",
       "219              0.0       1.0       0.0       0.0                0.0   \n",
       "\n",
       "     COUGHING  SHORTNESS OF BREATH  SWALLOWING DIFFICULTY  CHEST PAIN  \n",
       "0         0.0                  1.0                    1.0         0.0  \n",
       "1         1.0                  1.0                    0.0         1.0  \n",
       "2         0.0                  1.0                    1.0         1.0  \n",
       "3         0.0                  0.0                    0.0         1.0  \n",
       "4         0.0                  0.0                    1.0         0.0  \n",
       "..        ...                  ...                    ...         ...  \n",
       "215       0.0                  0.0                    0.0         0.0  \n",
       "216       1.0                  1.0                    1.0         0.0  \n",
       "217       1.0                  1.0                    0.0         0.0  \n",
       "218       0.0                  1.0                    1.0         0.0  \n",
       "219       1.0                  1.0                    1.0         1.0  \n",
       "\n",
       "[220 rows x 15 columns]"
      ]
     },
     "execution_count": 147,
     "metadata": {},
     "output_type": "execute_result"
    }
   ],
   "source": [
    "from sklearn.preprocessing import MinMaxScaler\n",
    "scaler = MinMaxScaler()\n",
    "X_train_scaled = pd.DataFrame(scaler.fit_transform(X_train),columns=X_train.columns)\n",
    "X_train_scaled"
   ]
  },
  {
   "cell_type": "code",
   "execution_count": 148,
   "id": "b3081bb1",
   "metadata": {
    "execution": {
     "iopub.execute_input": "2022-06-13T09:07:59.229177Z",
     "iopub.status.busy": "2022-06-13T09:07:59.228564Z",
     "iopub.status.idle": "2022-06-13T09:07:59.329630Z",
     "shell.execute_reply": "2022-06-13T09:07:59.328855Z"
    },
    "papermill": {
     "duration": 0.131113,
     "end_time": "2022-06-13T09:07:59.331831",
     "exception": false,
     "start_time": "2022-06-13T09:07:59.200718",
     "status": "completed"
    },
    "tags": []
   },
   "outputs": [
    {
     "data": {
      "text/html": [
       "<div>\n",
       "<style scoped>\n",
       "    .dataframe tbody tr th:only-of-type {\n",
       "        vertical-align: middle;\n",
       "    }\n",
       "\n",
       "    .dataframe tbody tr th {\n",
       "        vertical-align: top;\n",
       "    }\n",
       "\n",
       "    .dataframe thead th {\n",
       "        text-align: right;\n",
       "    }\n",
       "</style>\n",
       "<table border=\"1\" class=\"dataframe\">\n",
       "  <thead>\n",
       "    <tr style=\"text-align: right;\">\n",
       "      <th></th>\n",
       "      <th>GENDER</th>\n",
       "      <th>AGE</th>\n",
       "      <th>SMOKING</th>\n",
       "      <th>YELLOW_FINGERS</th>\n",
       "      <th>ANXIETY</th>\n",
       "      <th>PEER_PRESSURE</th>\n",
       "      <th>CHRONIC DISEASE</th>\n",
       "      <th>FATIGUE</th>\n",
       "      <th>ALLERGY</th>\n",
       "      <th>WHEEZING</th>\n",
       "      <th>ALCOHOL CONSUMING</th>\n",
       "      <th>COUGHING</th>\n",
       "      <th>SHORTNESS OF BREATH</th>\n",
       "      <th>SWALLOWING DIFFICULTY</th>\n",
       "      <th>CHEST PAIN</th>\n",
       "    </tr>\n",
       "  </thead>\n",
       "  <tbody>\n",
       "    <tr>\n",
       "      <th>0</th>\n",
       "      <td>1.0</td>\n",
       "      <td>0.358333</td>\n",
       "      <td>1.0</td>\n",
       "      <td>1.0</td>\n",
       "      <td>0.0</td>\n",
       "      <td>0.0</td>\n",
       "      <td>0.0</td>\n",
       "      <td>0.0</td>\n",
       "      <td>0.0</td>\n",
       "      <td>0.0</td>\n",
       "      <td>0.0</td>\n",
       "      <td>0.0</td>\n",
       "      <td>1.0</td>\n",
       "      <td>0.0</td>\n",
       "      <td>0.0</td>\n",
       "    </tr>\n",
       "    <tr>\n",
       "      <th>1</th>\n",
       "      <td>0.0</td>\n",
       "      <td>0.380556</td>\n",
       "      <td>1.0</td>\n",
       "      <td>1.0</td>\n",
       "      <td>1.0</td>\n",
       "      <td>1.0</td>\n",
       "      <td>1.0</td>\n",
       "      <td>0.0</td>\n",
       "      <td>0.0</td>\n",
       "      <td>0.0</td>\n",
       "      <td>1.0</td>\n",
       "      <td>0.0</td>\n",
       "      <td>0.0</td>\n",
       "      <td>1.0</td>\n",
       "      <td>1.0</td>\n",
       "    </tr>\n",
       "    <tr>\n",
       "      <th>2</th>\n",
       "      <td>1.0</td>\n",
       "      <td>0.491667</td>\n",
       "      <td>0.0</td>\n",
       "      <td>0.0</td>\n",
       "      <td>0.0</td>\n",
       "      <td>1.0</td>\n",
       "      <td>0.0</td>\n",
       "      <td>0.0</td>\n",
       "      <td>0.0</td>\n",
       "      <td>1.0</td>\n",
       "      <td>1.0</td>\n",
       "      <td>0.0</td>\n",
       "      <td>0.0</td>\n",
       "      <td>1.0</td>\n",
       "      <td>1.0</td>\n",
       "    </tr>\n",
       "    <tr>\n",
       "      <th>3</th>\n",
       "      <td>1.0</td>\n",
       "      <td>0.225000</td>\n",
       "      <td>1.0</td>\n",
       "      <td>1.0</td>\n",
       "      <td>1.0</td>\n",
       "      <td>1.0</td>\n",
       "      <td>0.0</td>\n",
       "      <td>1.0</td>\n",
       "      <td>0.0</td>\n",
       "      <td>0.0</td>\n",
       "      <td>0.0</td>\n",
       "      <td>0.0</td>\n",
       "      <td>1.0</td>\n",
       "      <td>1.0</td>\n",
       "      <td>0.0</td>\n",
       "    </tr>\n",
       "    <tr>\n",
       "      <th>4</th>\n",
       "      <td>0.0</td>\n",
       "      <td>0.447222</td>\n",
       "      <td>0.0</td>\n",
       "      <td>0.0</td>\n",
       "      <td>1.0</td>\n",
       "      <td>1.0</td>\n",
       "      <td>1.0</td>\n",
       "      <td>0.0</td>\n",
       "      <td>0.0</td>\n",
       "      <td>0.0</td>\n",
       "      <td>1.0</td>\n",
       "      <td>0.0</td>\n",
       "      <td>0.0</td>\n",
       "      <td>0.0</td>\n",
       "      <td>0.0</td>\n",
       "    </tr>\n",
       "    <tr>\n",
       "      <th>5</th>\n",
       "      <td>1.0</td>\n",
       "      <td>0.647222</td>\n",
       "      <td>1.0</td>\n",
       "      <td>0.0</td>\n",
       "      <td>0.0</td>\n",
       "      <td>1.0</td>\n",
       "      <td>1.0</td>\n",
       "      <td>0.0</td>\n",
       "      <td>1.0</td>\n",
       "      <td>0.0</td>\n",
       "      <td>0.0</td>\n",
       "      <td>0.0</td>\n",
       "      <td>1.0</td>\n",
       "      <td>0.0</td>\n",
       "      <td>0.0</td>\n",
       "    </tr>\n",
       "    <tr>\n",
       "      <th>6</th>\n",
       "      <td>1.0</td>\n",
       "      <td>0.336111</td>\n",
       "      <td>0.0</td>\n",
       "      <td>0.0</td>\n",
       "      <td>0.0</td>\n",
       "      <td>1.0</td>\n",
       "      <td>1.0</td>\n",
       "      <td>1.0</td>\n",
       "      <td>0.0</td>\n",
       "      <td>0.0</td>\n",
       "      <td>1.0</td>\n",
       "      <td>1.0</td>\n",
       "      <td>1.0</td>\n",
       "      <td>1.0</td>\n",
       "      <td>0.0</td>\n",
       "    </tr>\n",
       "    <tr>\n",
       "      <th>7</th>\n",
       "      <td>0.0</td>\n",
       "      <td>0.491667</td>\n",
       "      <td>1.0</td>\n",
       "      <td>0.0</td>\n",
       "      <td>0.0</td>\n",
       "      <td>1.0</td>\n",
       "      <td>0.0</td>\n",
       "      <td>0.0</td>\n",
       "      <td>0.0</td>\n",
       "      <td>0.0</td>\n",
       "      <td>0.0</td>\n",
       "      <td>1.0</td>\n",
       "      <td>1.0</td>\n",
       "      <td>0.0</td>\n",
       "      <td>0.0</td>\n",
       "    </tr>\n",
       "    <tr>\n",
       "      <th>8</th>\n",
       "      <td>0.0</td>\n",
       "      <td>0.000000</td>\n",
       "      <td>1.0</td>\n",
       "      <td>0.0</td>\n",
       "      <td>0.0</td>\n",
       "      <td>1.0</td>\n",
       "      <td>0.0</td>\n",
       "      <td>1.0</td>\n",
       "      <td>1.0</td>\n",
       "      <td>1.0</td>\n",
       "      <td>1.0</td>\n",
       "      <td>0.0</td>\n",
       "      <td>1.0</td>\n",
       "      <td>0.0</td>\n",
       "      <td>1.0</td>\n",
       "    </tr>\n",
       "    <tr>\n",
       "      <th>9</th>\n",
       "      <td>0.0</td>\n",
       "      <td>0.225000</td>\n",
       "      <td>0.0</td>\n",
       "      <td>1.0</td>\n",
       "      <td>0.0</td>\n",
       "      <td>0.0</td>\n",
       "      <td>1.0</td>\n",
       "      <td>1.0</td>\n",
       "      <td>1.0</td>\n",
       "      <td>1.0</td>\n",
       "      <td>1.0</td>\n",
       "      <td>1.0</td>\n",
       "      <td>1.0</td>\n",
       "      <td>0.0</td>\n",
       "      <td>1.0</td>\n",
       "    </tr>\n",
       "    <tr>\n",
       "      <th>10</th>\n",
       "      <td>1.0</td>\n",
       "      <td>0.713889</td>\n",
       "      <td>1.0</td>\n",
       "      <td>1.0</td>\n",
       "      <td>1.0</td>\n",
       "      <td>1.0</td>\n",
       "      <td>0.0</td>\n",
       "      <td>1.0</td>\n",
       "      <td>0.0</td>\n",
       "      <td>0.0</td>\n",
       "      <td>0.0</td>\n",
       "      <td>1.0</td>\n",
       "      <td>1.0</td>\n",
       "      <td>1.0</td>\n",
       "      <td>1.0</td>\n",
       "    </tr>\n",
       "    <tr>\n",
       "      <th>11</th>\n",
       "      <td>0.0</td>\n",
       "      <td>0.625000</td>\n",
       "      <td>0.0</td>\n",
       "      <td>0.0</td>\n",
       "      <td>1.0</td>\n",
       "      <td>0.0</td>\n",
       "      <td>0.0</td>\n",
       "      <td>1.0</td>\n",
       "      <td>0.0</td>\n",
       "      <td>1.0</td>\n",
       "      <td>1.0</td>\n",
       "      <td>1.0</td>\n",
       "      <td>1.0</td>\n",
       "      <td>1.0</td>\n",
       "      <td>0.0</td>\n",
       "    </tr>\n",
       "    <tr>\n",
       "      <th>12</th>\n",
       "      <td>0.0</td>\n",
       "      <td>0.447222</td>\n",
       "      <td>0.0</td>\n",
       "      <td>0.0</td>\n",
       "      <td>1.0</td>\n",
       "      <td>0.0</td>\n",
       "      <td>1.0</td>\n",
       "      <td>1.0</td>\n",
       "      <td>0.0</td>\n",
       "      <td>1.0</td>\n",
       "      <td>1.0</td>\n",
       "      <td>1.0</td>\n",
       "      <td>1.0</td>\n",
       "      <td>1.0</td>\n",
       "      <td>0.0</td>\n",
       "    </tr>\n",
       "    <tr>\n",
       "      <th>13</th>\n",
       "      <td>0.0</td>\n",
       "      <td>0.513889</td>\n",
       "      <td>1.0</td>\n",
       "      <td>0.0</td>\n",
       "      <td>0.0</td>\n",
       "      <td>0.0</td>\n",
       "      <td>0.0</td>\n",
       "      <td>0.0</td>\n",
       "      <td>1.0</td>\n",
       "      <td>1.0</td>\n",
       "      <td>1.0</td>\n",
       "      <td>1.0</td>\n",
       "      <td>0.0</td>\n",
       "      <td>0.0</td>\n",
       "      <td>1.0</td>\n",
       "    </tr>\n",
       "    <tr>\n",
       "      <th>14</th>\n",
       "      <td>0.0</td>\n",
       "      <td>0.758333</td>\n",
       "      <td>1.0</td>\n",
       "      <td>1.0</td>\n",
       "      <td>1.0</td>\n",
       "      <td>1.0</td>\n",
       "      <td>1.0</td>\n",
       "      <td>0.0</td>\n",
       "      <td>0.0</td>\n",
       "      <td>0.0</td>\n",
       "      <td>0.0</td>\n",
       "      <td>0.0</td>\n",
       "      <td>0.0</td>\n",
       "      <td>0.0</td>\n",
       "      <td>1.0</td>\n",
       "    </tr>\n",
       "    <tr>\n",
       "      <th>15</th>\n",
       "      <td>1.0</td>\n",
       "      <td>0.536111</td>\n",
       "      <td>1.0</td>\n",
       "      <td>1.0</td>\n",
       "      <td>1.0</td>\n",
       "      <td>1.0</td>\n",
       "      <td>0.0</td>\n",
       "      <td>1.0</td>\n",
       "      <td>0.0</td>\n",
       "      <td>1.0</td>\n",
       "      <td>0.0</td>\n",
       "      <td>1.0</td>\n",
       "      <td>1.0</td>\n",
       "      <td>1.0</td>\n",
       "      <td>0.0</td>\n",
       "    </tr>\n",
       "    <tr>\n",
       "      <th>16</th>\n",
       "      <td>0.0</td>\n",
       "      <td>0.425000</td>\n",
       "      <td>1.0</td>\n",
       "      <td>1.0</td>\n",
       "      <td>1.0</td>\n",
       "      <td>1.0</td>\n",
       "      <td>1.0</td>\n",
       "      <td>0.0</td>\n",
       "      <td>1.0</td>\n",
       "      <td>0.0</td>\n",
       "      <td>1.0</td>\n",
       "      <td>0.0</td>\n",
       "      <td>0.0</td>\n",
       "      <td>1.0</td>\n",
       "      <td>1.0</td>\n",
       "    </tr>\n",
       "    <tr>\n",
       "      <th>17</th>\n",
       "      <td>0.0</td>\n",
       "      <td>0.647222</td>\n",
       "      <td>0.0</td>\n",
       "      <td>1.0</td>\n",
       "      <td>0.0</td>\n",
       "      <td>1.0</td>\n",
       "      <td>1.0</td>\n",
       "      <td>1.0</td>\n",
       "      <td>1.0</td>\n",
       "      <td>1.0</td>\n",
       "      <td>1.0</td>\n",
       "      <td>1.0</td>\n",
       "      <td>0.0</td>\n",
       "      <td>1.0</td>\n",
       "      <td>1.0</td>\n",
       "    </tr>\n",
       "    <tr>\n",
       "      <th>18</th>\n",
       "      <td>0.0</td>\n",
       "      <td>0.336111</td>\n",
       "      <td>0.0</td>\n",
       "      <td>0.0</td>\n",
       "      <td>0.0</td>\n",
       "      <td>0.0</td>\n",
       "      <td>1.0</td>\n",
       "      <td>1.0</td>\n",
       "      <td>1.0</td>\n",
       "      <td>0.0</td>\n",
       "      <td>1.0</td>\n",
       "      <td>1.0</td>\n",
       "      <td>1.0</td>\n",
       "      <td>0.0</td>\n",
       "      <td>1.0</td>\n",
       "    </tr>\n",
       "    <tr>\n",
       "      <th>19</th>\n",
       "      <td>0.0</td>\n",
       "      <td>0.402778</td>\n",
       "      <td>0.0</td>\n",
       "      <td>0.0</td>\n",
       "      <td>0.0</td>\n",
       "      <td>1.0</td>\n",
       "      <td>0.0</td>\n",
       "      <td>1.0</td>\n",
       "      <td>0.0</td>\n",
       "      <td>1.0</td>\n",
       "      <td>0.0</td>\n",
       "      <td>0.0</td>\n",
       "      <td>1.0</td>\n",
       "      <td>0.0</td>\n",
       "      <td>1.0</td>\n",
       "    </tr>\n",
       "    <tr>\n",
       "      <th>20</th>\n",
       "      <td>0.0</td>\n",
       "      <td>0.691667</td>\n",
       "      <td>1.0</td>\n",
       "      <td>1.0</td>\n",
       "      <td>1.0</td>\n",
       "      <td>1.0</td>\n",
       "      <td>1.0</td>\n",
       "      <td>1.0</td>\n",
       "      <td>0.0</td>\n",
       "      <td>1.0</td>\n",
       "      <td>1.0</td>\n",
       "      <td>1.0</td>\n",
       "      <td>1.0</td>\n",
       "      <td>1.0</td>\n",
       "      <td>1.0</td>\n",
       "    </tr>\n",
       "    <tr>\n",
       "      <th>21</th>\n",
       "      <td>1.0</td>\n",
       "      <td>0.425000</td>\n",
       "      <td>1.0</td>\n",
       "      <td>0.0</td>\n",
       "      <td>0.0</td>\n",
       "      <td>0.0</td>\n",
       "      <td>1.0</td>\n",
       "      <td>1.0</td>\n",
       "      <td>0.0</td>\n",
       "      <td>0.0</td>\n",
       "      <td>0.0</td>\n",
       "      <td>0.0</td>\n",
       "      <td>1.0</td>\n",
       "      <td>0.0</td>\n",
       "      <td>0.0</td>\n",
       "    </tr>\n",
       "    <tr>\n",
       "      <th>22</th>\n",
       "      <td>1.0</td>\n",
       "      <td>0.669444</td>\n",
       "      <td>1.0</td>\n",
       "      <td>0.0</td>\n",
       "      <td>0.0</td>\n",
       "      <td>0.0</td>\n",
       "      <td>1.0</td>\n",
       "      <td>1.0</td>\n",
       "      <td>0.0</td>\n",
       "      <td>0.0</td>\n",
       "      <td>0.0</td>\n",
       "      <td>0.0</td>\n",
       "      <td>1.0</td>\n",
       "      <td>0.0</td>\n",
       "      <td>0.0</td>\n",
       "    </tr>\n",
       "    <tr>\n",
       "      <th>23</th>\n",
       "      <td>0.0</td>\n",
       "      <td>0.469444</td>\n",
       "      <td>0.0</td>\n",
       "      <td>0.0</td>\n",
       "      <td>0.0</td>\n",
       "      <td>0.0</td>\n",
       "      <td>1.0</td>\n",
       "      <td>0.0</td>\n",
       "      <td>1.0</td>\n",
       "      <td>0.0</td>\n",
       "      <td>1.0</td>\n",
       "      <td>1.0</td>\n",
       "      <td>1.0</td>\n",
       "      <td>1.0</td>\n",
       "      <td>1.0</td>\n",
       "    </tr>\n",
       "    <tr>\n",
       "      <th>24</th>\n",
       "      <td>0.0</td>\n",
       "      <td>0.491667</td>\n",
       "      <td>1.0</td>\n",
       "      <td>0.0</td>\n",
       "      <td>0.0</td>\n",
       "      <td>0.0</td>\n",
       "      <td>0.0</td>\n",
       "      <td>1.0</td>\n",
       "      <td>1.0</td>\n",
       "      <td>1.0</td>\n",
       "      <td>1.0</td>\n",
       "      <td>1.0</td>\n",
       "      <td>1.0</td>\n",
       "      <td>0.0</td>\n",
       "      <td>1.0</td>\n",
       "    </tr>\n",
       "    <tr>\n",
       "      <th>25</th>\n",
       "      <td>1.0</td>\n",
       "      <td>0.469444</td>\n",
       "      <td>0.0</td>\n",
       "      <td>0.0</td>\n",
       "      <td>0.0</td>\n",
       "      <td>0.0</td>\n",
       "      <td>1.0</td>\n",
       "      <td>1.0</td>\n",
       "      <td>0.0</td>\n",
       "      <td>0.0</td>\n",
       "      <td>0.0</td>\n",
       "      <td>0.0</td>\n",
       "      <td>1.0</td>\n",
       "      <td>0.0</td>\n",
       "      <td>0.0</td>\n",
       "    </tr>\n",
       "    <tr>\n",
       "      <th>26</th>\n",
       "      <td>0.0</td>\n",
       "      <td>0.802778</td>\n",
       "      <td>1.0</td>\n",
       "      <td>1.0</td>\n",
       "      <td>1.0</td>\n",
       "      <td>1.0</td>\n",
       "      <td>0.0</td>\n",
       "      <td>1.0</td>\n",
       "      <td>0.0</td>\n",
       "      <td>1.0</td>\n",
       "      <td>0.0</td>\n",
       "      <td>1.0</td>\n",
       "      <td>1.0</td>\n",
       "      <td>1.0</td>\n",
       "      <td>0.0</td>\n",
       "    </tr>\n",
       "    <tr>\n",
       "      <th>27</th>\n",
       "      <td>1.0</td>\n",
       "      <td>0.802778</td>\n",
       "      <td>0.0</td>\n",
       "      <td>1.0</td>\n",
       "      <td>1.0</td>\n",
       "      <td>1.0</td>\n",
       "      <td>1.0</td>\n",
       "      <td>1.0</td>\n",
       "      <td>0.0</td>\n",
       "      <td>1.0</td>\n",
       "      <td>1.0</td>\n",
       "      <td>0.0</td>\n",
       "      <td>0.0</td>\n",
       "      <td>0.0</td>\n",
       "      <td>0.0</td>\n",
       "    </tr>\n",
       "    <tr>\n",
       "      <th>28</th>\n",
       "      <td>0.0</td>\n",
       "      <td>0.269444</td>\n",
       "      <td>1.0</td>\n",
       "      <td>1.0</td>\n",
       "      <td>1.0</td>\n",
       "      <td>1.0</td>\n",
       "      <td>1.0</td>\n",
       "      <td>0.0</td>\n",
       "      <td>1.0</td>\n",
       "      <td>0.0</td>\n",
       "      <td>1.0</td>\n",
       "      <td>0.0</td>\n",
       "      <td>0.0</td>\n",
       "      <td>1.0</td>\n",
       "      <td>1.0</td>\n",
       "    </tr>\n",
       "    <tr>\n",
       "      <th>29</th>\n",
       "      <td>1.0</td>\n",
       "      <td>0.491667</td>\n",
       "      <td>1.0</td>\n",
       "      <td>1.0</td>\n",
       "      <td>1.0</td>\n",
       "      <td>1.0</td>\n",
       "      <td>1.0</td>\n",
       "      <td>1.0</td>\n",
       "      <td>1.0</td>\n",
       "      <td>1.0</td>\n",
       "      <td>0.0</td>\n",
       "      <td>1.0</td>\n",
       "      <td>1.0</td>\n",
       "      <td>1.0</td>\n",
       "      <td>1.0</td>\n",
       "    </tr>\n",
       "    <tr>\n",
       "      <th>30</th>\n",
       "      <td>1.0</td>\n",
       "      <td>0.000000</td>\n",
       "      <td>1.0</td>\n",
       "      <td>0.0</td>\n",
       "      <td>0.0</td>\n",
       "      <td>0.0</td>\n",
       "      <td>1.0</td>\n",
       "      <td>1.0</td>\n",
       "      <td>1.0</td>\n",
       "      <td>0.0</td>\n",
       "      <td>0.0</td>\n",
       "      <td>0.0</td>\n",
       "      <td>1.0</td>\n",
       "      <td>0.0</td>\n",
       "      <td>0.0</td>\n",
       "    </tr>\n",
       "    <tr>\n",
       "      <th>31</th>\n",
       "      <td>0.0</td>\n",
       "      <td>0.447222</td>\n",
       "      <td>1.0</td>\n",
       "      <td>1.0</td>\n",
       "      <td>1.0</td>\n",
       "      <td>0.0</td>\n",
       "      <td>0.0</td>\n",
       "      <td>1.0</td>\n",
       "      <td>1.0</td>\n",
       "      <td>0.0</td>\n",
       "      <td>1.0</td>\n",
       "      <td>0.0</td>\n",
       "      <td>1.0</td>\n",
       "      <td>1.0</td>\n",
       "      <td>1.0</td>\n",
       "    </tr>\n",
       "    <tr>\n",
       "      <th>32</th>\n",
       "      <td>0.0</td>\n",
       "      <td>0.691667</td>\n",
       "      <td>1.0</td>\n",
       "      <td>1.0</td>\n",
       "      <td>1.0</td>\n",
       "      <td>1.0</td>\n",
       "      <td>1.0</td>\n",
       "      <td>0.0</td>\n",
       "      <td>1.0</td>\n",
       "      <td>1.0</td>\n",
       "      <td>1.0</td>\n",
       "      <td>1.0</td>\n",
       "      <td>0.0</td>\n",
       "      <td>1.0</td>\n",
       "      <td>1.0</td>\n",
       "    </tr>\n",
       "    <tr>\n",
       "      <th>33</th>\n",
       "      <td>1.0</td>\n",
       "      <td>0.558333</td>\n",
       "      <td>1.0</td>\n",
       "      <td>1.0</td>\n",
       "      <td>1.0</td>\n",
       "      <td>0.0</td>\n",
       "      <td>1.0</td>\n",
       "      <td>1.0</td>\n",
       "      <td>1.0</td>\n",
       "      <td>1.0</td>\n",
       "      <td>1.0</td>\n",
       "      <td>1.0</td>\n",
       "      <td>1.0</td>\n",
       "      <td>0.0</td>\n",
       "      <td>0.0</td>\n",
       "    </tr>\n",
       "    <tr>\n",
       "      <th>34</th>\n",
       "      <td>1.0</td>\n",
       "      <td>0.447222</td>\n",
       "      <td>1.0</td>\n",
       "      <td>1.0</td>\n",
       "      <td>1.0</td>\n",
       "      <td>1.0</td>\n",
       "      <td>0.0</td>\n",
       "      <td>1.0</td>\n",
       "      <td>1.0</td>\n",
       "      <td>0.0</td>\n",
       "      <td>0.0</td>\n",
       "      <td>0.0</td>\n",
       "      <td>1.0</td>\n",
       "      <td>1.0</td>\n",
       "      <td>1.0</td>\n",
       "    </tr>\n",
       "    <tr>\n",
       "      <th>35</th>\n",
       "      <td>0.0</td>\n",
       "      <td>0.380556</td>\n",
       "      <td>1.0</td>\n",
       "      <td>0.0</td>\n",
       "      <td>0.0</td>\n",
       "      <td>0.0</td>\n",
       "      <td>0.0</td>\n",
       "      <td>0.0</td>\n",
       "      <td>1.0</td>\n",
       "      <td>1.0</td>\n",
       "      <td>1.0</td>\n",
       "      <td>1.0</td>\n",
       "      <td>0.0</td>\n",
       "      <td>0.0</td>\n",
       "      <td>0.0</td>\n",
       "    </tr>\n",
       "    <tr>\n",
       "      <th>36</th>\n",
       "      <td>1.0</td>\n",
       "      <td>0.291667</td>\n",
       "      <td>1.0</td>\n",
       "      <td>1.0</td>\n",
       "      <td>1.0</td>\n",
       "      <td>1.0</td>\n",
       "      <td>1.0</td>\n",
       "      <td>1.0</td>\n",
       "      <td>0.0</td>\n",
       "      <td>1.0</td>\n",
       "      <td>0.0</td>\n",
       "      <td>1.0</td>\n",
       "      <td>0.0</td>\n",
       "      <td>1.0</td>\n",
       "      <td>1.0</td>\n",
       "    </tr>\n",
       "    <tr>\n",
       "      <th>37</th>\n",
       "      <td>1.0</td>\n",
       "      <td>0.758333</td>\n",
       "      <td>0.0</td>\n",
       "      <td>1.0</td>\n",
       "      <td>1.0</td>\n",
       "      <td>1.0</td>\n",
       "      <td>0.0</td>\n",
       "      <td>0.0</td>\n",
       "      <td>1.0</td>\n",
       "      <td>1.0</td>\n",
       "      <td>0.0</td>\n",
       "      <td>1.0</td>\n",
       "      <td>0.0</td>\n",
       "      <td>1.0</td>\n",
       "      <td>0.0</td>\n",
       "    </tr>\n",
       "    <tr>\n",
       "      <th>38</th>\n",
       "      <td>0.0</td>\n",
       "      <td>0.247222</td>\n",
       "      <td>1.0</td>\n",
       "      <td>0.0</td>\n",
       "      <td>0.0</td>\n",
       "      <td>0.0</td>\n",
       "      <td>0.0</td>\n",
       "      <td>1.0</td>\n",
       "      <td>0.0</td>\n",
       "      <td>1.0</td>\n",
       "      <td>1.0</td>\n",
       "      <td>1.0</td>\n",
       "      <td>1.0</td>\n",
       "      <td>0.0</td>\n",
       "      <td>1.0</td>\n",
       "    </tr>\n",
       "    <tr>\n",
       "      <th>39</th>\n",
       "      <td>1.0</td>\n",
       "      <td>0.780556</td>\n",
       "      <td>1.0</td>\n",
       "      <td>1.0</td>\n",
       "      <td>1.0</td>\n",
       "      <td>1.0</td>\n",
       "      <td>0.0</td>\n",
       "      <td>1.0</td>\n",
       "      <td>1.0</td>\n",
       "      <td>0.0</td>\n",
       "      <td>0.0</td>\n",
       "      <td>0.0</td>\n",
       "      <td>1.0</td>\n",
       "      <td>1.0</td>\n",
       "      <td>1.0</td>\n",
       "    </tr>\n",
       "    <tr>\n",
       "      <th>40</th>\n",
       "      <td>0.0</td>\n",
       "      <td>0.469444</td>\n",
       "      <td>1.0</td>\n",
       "      <td>1.0</td>\n",
       "      <td>0.0</td>\n",
       "      <td>0.0</td>\n",
       "      <td>1.0</td>\n",
       "      <td>0.0</td>\n",
       "      <td>1.0</td>\n",
       "      <td>0.0</td>\n",
       "      <td>0.0</td>\n",
       "      <td>1.0</td>\n",
       "      <td>1.0</td>\n",
       "      <td>1.0</td>\n",
       "      <td>1.0</td>\n",
       "    </tr>\n",
       "    <tr>\n",
       "      <th>41</th>\n",
       "      <td>1.0</td>\n",
       "      <td>0.491667</td>\n",
       "      <td>0.0</td>\n",
       "      <td>0.0</td>\n",
       "      <td>0.0</td>\n",
       "      <td>0.0</td>\n",
       "      <td>1.0</td>\n",
       "      <td>1.0</td>\n",
       "      <td>0.0</td>\n",
       "      <td>0.0</td>\n",
       "      <td>0.0</td>\n",
       "      <td>0.0</td>\n",
       "      <td>1.0</td>\n",
       "      <td>0.0</td>\n",
       "      <td>0.0</td>\n",
       "    </tr>\n",
       "    <tr>\n",
       "      <th>42</th>\n",
       "      <td>1.0</td>\n",
       "      <td>0.336111</td>\n",
       "      <td>0.0</td>\n",
       "      <td>1.0</td>\n",
       "      <td>0.0</td>\n",
       "      <td>0.0</td>\n",
       "      <td>1.0</td>\n",
       "      <td>1.0</td>\n",
       "      <td>1.0</td>\n",
       "      <td>1.0</td>\n",
       "      <td>0.0</td>\n",
       "      <td>1.0</td>\n",
       "      <td>1.0</td>\n",
       "      <td>0.0</td>\n",
       "      <td>1.0</td>\n",
       "    </tr>\n",
       "    <tr>\n",
       "      <th>43</th>\n",
       "      <td>0.0</td>\n",
       "      <td>0.536111</td>\n",
       "      <td>0.0</td>\n",
       "      <td>1.0</td>\n",
       "      <td>1.0</td>\n",
       "      <td>0.0</td>\n",
       "      <td>0.0</td>\n",
       "      <td>1.0</td>\n",
       "      <td>0.0</td>\n",
       "      <td>1.0</td>\n",
       "      <td>1.0</td>\n",
       "      <td>1.0</td>\n",
       "      <td>1.0</td>\n",
       "      <td>1.0</td>\n",
       "      <td>1.0</td>\n",
       "    </tr>\n",
       "    <tr>\n",
       "      <th>44</th>\n",
       "      <td>0.0</td>\n",
       "      <td>0.358333</td>\n",
       "      <td>1.0</td>\n",
       "      <td>0.0</td>\n",
       "      <td>0.0</td>\n",
       "      <td>0.0</td>\n",
       "      <td>0.0</td>\n",
       "      <td>1.0</td>\n",
       "      <td>0.0</td>\n",
       "      <td>1.0</td>\n",
       "      <td>1.0</td>\n",
       "      <td>1.0</td>\n",
       "      <td>1.0</td>\n",
       "      <td>0.0</td>\n",
       "      <td>1.0</td>\n",
       "    </tr>\n",
       "    <tr>\n",
       "      <th>45</th>\n",
       "      <td>0.0</td>\n",
       "      <td>0.291667</td>\n",
       "      <td>1.0</td>\n",
       "      <td>0.0</td>\n",
       "      <td>0.0</td>\n",
       "      <td>0.0</td>\n",
       "      <td>0.0</td>\n",
       "      <td>0.0</td>\n",
       "      <td>1.0</td>\n",
       "      <td>1.0</td>\n",
       "      <td>1.0</td>\n",
       "      <td>1.0</td>\n",
       "      <td>0.0</td>\n",
       "      <td>0.0</td>\n",
       "      <td>0.0</td>\n",
       "    </tr>\n",
       "    <tr>\n",
       "      <th>46</th>\n",
       "      <td>1.0</td>\n",
       "      <td>0.447222</td>\n",
       "      <td>0.0</td>\n",
       "      <td>0.0</td>\n",
       "      <td>0.0</td>\n",
       "      <td>0.0</td>\n",
       "      <td>1.0</td>\n",
       "      <td>1.0</td>\n",
       "      <td>0.0</td>\n",
       "      <td>0.0</td>\n",
       "      <td>0.0</td>\n",
       "      <td>0.0</td>\n",
       "      <td>1.0</td>\n",
       "      <td>0.0</td>\n",
       "      <td>0.0</td>\n",
       "    </tr>\n",
       "    <tr>\n",
       "      <th>47</th>\n",
       "      <td>0.0</td>\n",
       "      <td>0.469444</td>\n",
       "      <td>0.0</td>\n",
       "      <td>1.0</td>\n",
       "      <td>1.0</td>\n",
       "      <td>1.0</td>\n",
       "      <td>0.0</td>\n",
       "      <td>1.0</td>\n",
       "      <td>0.0</td>\n",
       "      <td>0.0</td>\n",
       "      <td>0.0</td>\n",
       "      <td>0.0</td>\n",
       "      <td>0.0</td>\n",
       "      <td>1.0</td>\n",
       "      <td>1.0</td>\n",
       "    </tr>\n",
       "    <tr>\n",
       "      <th>48</th>\n",
       "      <td>1.0</td>\n",
       "      <td>0.358333</td>\n",
       "      <td>0.0</td>\n",
       "      <td>1.0</td>\n",
       "      <td>1.0</td>\n",
       "      <td>0.0</td>\n",
       "      <td>0.0</td>\n",
       "      <td>0.0</td>\n",
       "      <td>0.0</td>\n",
       "      <td>0.0</td>\n",
       "      <td>0.0</td>\n",
       "      <td>1.0</td>\n",
       "      <td>0.0</td>\n",
       "      <td>0.0</td>\n",
       "      <td>0.0</td>\n",
       "    </tr>\n",
       "    <tr>\n",
       "      <th>49</th>\n",
       "      <td>0.0</td>\n",
       "      <td>0.580556</td>\n",
       "      <td>0.0</td>\n",
       "      <td>1.0</td>\n",
       "      <td>1.0</td>\n",
       "      <td>1.0</td>\n",
       "      <td>0.0</td>\n",
       "      <td>1.0</td>\n",
       "      <td>1.0</td>\n",
       "      <td>0.0</td>\n",
       "      <td>0.0</td>\n",
       "      <td>1.0</td>\n",
       "      <td>0.0</td>\n",
       "      <td>1.0</td>\n",
       "      <td>0.0</td>\n",
       "    </tr>\n",
       "    <tr>\n",
       "      <th>50</th>\n",
       "      <td>0.0</td>\n",
       "      <td>0.558333</td>\n",
       "      <td>0.0</td>\n",
       "      <td>1.0</td>\n",
       "      <td>1.0</td>\n",
       "      <td>0.0</td>\n",
       "      <td>1.0</td>\n",
       "      <td>0.0</td>\n",
       "      <td>1.0</td>\n",
       "      <td>0.0</td>\n",
       "      <td>1.0</td>\n",
       "      <td>1.0</td>\n",
       "      <td>1.0</td>\n",
       "      <td>0.0</td>\n",
       "      <td>1.0</td>\n",
       "    </tr>\n",
       "    <tr>\n",
       "      <th>51</th>\n",
       "      <td>1.0</td>\n",
       "      <td>0.358333</td>\n",
       "      <td>1.0</td>\n",
       "      <td>1.0</td>\n",
       "      <td>0.0</td>\n",
       "      <td>1.0</td>\n",
       "      <td>0.0</td>\n",
       "      <td>0.0</td>\n",
       "      <td>0.0</td>\n",
       "      <td>0.0</td>\n",
       "      <td>0.0</td>\n",
       "      <td>0.0</td>\n",
       "      <td>0.0</td>\n",
       "      <td>0.0</td>\n",
       "      <td>1.0</td>\n",
       "    </tr>\n",
       "    <tr>\n",
       "      <th>52</th>\n",
       "      <td>1.0</td>\n",
       "      <td>0.713889</td>\n",
       "      <td>1.0</td>\n",
       "      <td>0.0</td>\n",
       "      <td>0.0</td>\n",
       "      <td>1.0</td>\n",
       "      <td>0.0</td>\n",
       "      <td>1.0</td>\n",
       "      <td>1.0</td>\n",
       "      <td>1.0</td>\n",
       "      <td>1.0</td>\n",
       "      <td>1.0</td>\n",
       "      <td>0.0</td>\n",
       "      <td>1.0</td>\n",
       "      <td>1.0</td>\n",
       "    </tr>\n",
       "    <tr>\n",
       "      <th>53</th>\n",
       "      <td>1.0</td>\n",
       "      <td>0.158333</td>\n",
       "      <td>0.0</td>\n",
       "      <td>1.0</td>\n",
       "      <td>1.0</td>\n",
       "      <td>1.0</td>\n",
       "      <td>1.0</td>\n",
       "      <td>1.0</td>\n",
       "      <td>1.0</td>\n",
       "      <td>1.0</td>\n",
       "      <td>0.0</td>\n",
       "      <td>1.0</td>\n",
       "      <td>1.0</td>\n",
       "      <td>1.0</td>\n",
       "      <td>0.0</td>\n",
       "    </tr>\n",
       "    <tr>\n",
       "      <th>54</th>\n",
       "      <td>0.0</td>\n",
       "      <td>0.469444</td>\n",
       "      <td>1.0</td>\n",
       "      <td>1.0</td>\n",
       "      <td>1.0</td>\n",
       "      <td>0.0</td>\n",
       "      <td>1.0</td>\n",
       "      <td>1.0</td>\n",
       "      <td>1.0</td>\n",
       "      <td>1.0</td>\n",
       "      <td>0.0</td>\n",
       "      <td>0.0</td>\n",
       "      <td>1.0</td>\n",
       "      <td>0.0</td>\n",
       "      <td>0.0</td>\n",
       "    </tr>\n",
       "    <tr>\n",
       "      <th>55</th>\n",
       "      <td>1.0</td>\n",
       "      <td>0.447222</td>\n",
       "      <td>1.0</td>\n",
       "      <td>1.0</td>\n",
       "      <td>1.0</td>\n",
       "      <td>1.0</td>\n",
       "      <td>1.0</td>\n",
       "      <td>1.0</td>\n",
       "      <td>0.0</td>\n",
       "      <td>1.0</td>\n",
       "      <td>0.0</td>\n",
       "      <td>1.0</td>\n",
       "      <td>1.0</td>\n",
       "      <td>1.0</td>\n",
       "      <td>0.0</td>\n",
       "    </tr>\n",
       "  </tbody>\n",
       "</table>\n",
       "</div>"
      ],
      "text/plain": [
       "    GENDER       AGE  SMOKING  YELLOW_FINGERS  ANXIETY  PEER_PRESSURE  \\\n",
       "0      1.0  0.358333      1.0             1.0      0.0            0.0   \n",
       "1      0.0  0.380556      1.0             1.0      1.0            1.0   \n",
       "2      1.0  0.491667      0.0             0.0      0.0            1.0   \n",
       "3      1.0  0.225000      1.0             1.0      1.0            1.0   \n",
       "4      0.0  0.447222      0.0             0.0      1.0            1.0   \n",
       "5      1.0  0.647222      1.0             0.0      0.0            1.0   \n",
       "6      1.0  0.336111      0.0             0.0      0.0            1.0   \n",
       "7      0.0  0.491667      1.0             0.0      0.0            1.0   \n",
       "8      0.0  0.000000      1.0             0.0      0.0            1.0   \n",
       "9      0.0  0.225000      0.0             1.0      0.0            0.0   \n",
       "10     1.0  0.713889      1.0             1.0      1.0            1.0   \n",
       "11     0.0  0.625000      0.0             0.0      1.0            0.0   \n",
       "12     0.0  0.447222      0.0             0.0      1.0            0.0   \n",
       "13     0.0  0.513889      1.0             0.0      0.0            0.0   \n",
       "14     0.0  0.758333      1.0             1.0      1.0            1.0   \n",
       "15     1.0  0.536111      1.0             1.0      1.0            1.0   \n",
       "16     0.0  0.425000      1.0             1.0      1.0            1.0   \n",
       "17     0.0  0.647222      0.0             1.0      0.0            1.0   \n",
       "18     0.0  0.336111      0.0             0.0      0.0            0.0   \n",
       "19     0.0  0.402778      0.0             0.0      0.0            1.0   \n",
       "20     0.0  0.691667      1.0             1.0      1.0            1.0   \n",
       "21     1.0  0.425000      1.0             0.0      0.0            0.0   \n",
       "22     1.0  0.669444      1.0             0.0      0.0            0.0   \n",
       "23     0.0  0.469444      0.0             0.0      0.0            0.0   \n",
       "24     0.0  0.491667      1.0             0.0      0.0            0.0   \n",
       "25     1.0  0.469444      0.0             0.0      0.0            0.0   \n",
       "26     0.0  0.802778      1.0             1.0      1.0            1.0   \n",
       "27     1.0  0.802778      0.0             1.0      1.0            1.0   \n",
       "28     0.0  0.269444      1.0             1.0      1.0            1.0   \n",
       "29     1.0  0.491667      1.0             1.0      1.0            1.0   \n",
       "30     1.0  0.000000      1.0             0.0      0.0            0.0   \n",
       "31     0.0  0.447222      1.0             1.0      1.0            0.0   \n",
       "32     0.0  0.691667      1.0             1.0      1.0            1.0   \n",
       "33     1.0  0.558333      1.0             1.0      1.0            0.0   \n",
       "34     1.0  0.447222      1.0             1.0      1.0            1.0   \n",
       "35     0.0  0.380556      1.0             0.0      0.0            0.0   \n",
       "36     1.0  0.291667      1.0             1.0      1.0            1.0   \n",
       "37     1.0  0.758333      0.0             1.0      1.0            1.0   \n",
       "38     0.0  0.247222      1.0             0.0      0.0            0.0   \n",
       "39     1.0  0.780556      1.0             1.0      1.0            1.0   \n",
       "40     0.0  0.469444      1.0             1.0      0.0            0.0   \n",
       "41     1.0  0.491667      0.0             0.0      0.0            0.0   \n",
       "42     1.0  0.336111      0.0             1.0      0.0            0.0   \n",
       "43     0.0  0.536111      0.0             1.0      1.0            0.0   \n",
       "44     0.0  0.358333      1.0             0.0      0.0            0.0   \n",
       "45     0.0  0.291667      1.0             0.0      0.0            0.0   \n",
       "46     1.0  0.447222      0.0             0.0      0.0            0.0   \n",
       "47     0.0  0.469444      0.0             1.0      1.0            1.0   \n",
       "48     1.0  0.358333      0.0             1.0      1.0            0.0   \n",
       "49     0.0  0.580556      0.0             1.0      1.0            1.0   \n",
       "50     0.0  0.558333      0.0             1.0      1.0            0.0   \n",
       "51     1.0  0.358333      1.0             1.0      0.0            1.0   \n",
       "52     1.0  0.713889      1.0             0.0      0.0            1.0   \n",
       "53     1.0  0.158333      0.0             1.0      1.0            1.0   \n",
       "54     0.0  0.469444      1.0             1.0      1.0            0.0   \n",
       "55     1.0  0.447222      1.0             1.0      1.0            1.0   \n",
       "\n",
       "    CHRONIC DISEASE  FATIGUE   ALLERGY   WHEEZING  ALCOHOL CONSUMING  \\\n",
       "0               0.0       0.0       0.0       0.0                0.0   \n",
       "1               1.0       0.0       0.0       0.0                1.0   \n",
       "2               0.0       0.0       0.0       1.0                1.0   \n",
       "3               0.0       1.0       0.0       0.0                0.0   \n",
       "4               1.0       0.0       0.0       0.0                1.0   \n",
       "5               1.0       0.0       1.0       0.0                0.0   \n",
       "6               1.0       1.0       0.0       0.0                1.0   \n",
       "7               0.0       0.0       0.0       0.0                0.0   \n",
       "8               0.0       1.0       1.0       1.0                1.0   \n",
       "9               1.0       1.0       1.0       1.0                1.0   \n",
       "10              0.0       1.0       0.0       0.0                0.0   \n",
       "11              0.0       1.0       0.0       1.0                1.0   \n",
       "12              1.0       1.0       0.0       1.0                1.0   \n",
       "13              0.0       0.0       1.0       1.0                1.0   \n",
       "14              1.0       0.0       0.0       0.0                0.0   \n",
       "15              0.0       1.0       0.0       1.0                0.0   \n",
       "16              1.0       0.0       1.0       0.0                1.0   \n",
       "17              1.0       1.0       1.0       1.0                1.0   \n",
       "18              1.0       1.0       1.0       0.0                1.0   \n",
       "19              0.0       1.0       0.0       1.0                0.0   \n",
       "20              1.0       1.0       0.0       1.0                1.0   \n",
       "21              1.0       1.0       0.0       0.0                0.0   \n",
       "22              1.0       1.0       0.0       0.0                0.0   \n",
       "23              1.0       0.0       1.0       0.0                1.0   \n",
       "24              0.0       1.0       1.0       1.0                1.0   \n",
       "25              1.0       1.0       0.0       0.0                0.0   \n",
       "26              0.0       1.0       0.0       1.0                0.0   \n",
       "27              1.0       1.0       0.0       1.0                1.0   \n",
       "28              1.0       0.0       1.0       0.0                1.0   \n",
       "29              1.0       1.0       1.0       1.0                0.0   \n",
       "30              1.0       1.0       1.0       0.0                0.0   \n",
       "31              0.0       1.0       1.0       0.0                1.0   \n",
       "32              1.0       0.0       1.0       1.0                1.0   \n",
       "33              1.0       1.0       1.0       1.0                1.0   \n",
       "34              0.0       1.0       1.0       0.0                0.0   \n",
       "35              0.0       0.0       1.0       1.0                1.0   \n",
       "36              1.0       1.0       0.0       1.0                0.0   \n",
       "37              0.0       0.0       1.0       1.0                0.0   \n",
       "38              0.0       1.0       0.0       1.0                1.0   \n",
       "39              0.0       1.0       1.0       0.0                0.0   \n",
       "40              1.0       0.0       1.0       0.0                0.0   \n",
       "41              1.0       1.0       0.0       0.0                0.0   \n",
       "42              1.0       1.0       1.0       1.0                0.0   \n",
       "43              0.0       1.0       0.0       1.0                1.0   \n",
       "44              0.0       1.0       0.0       1.0                1.0   \n",
       "45              0.0       0.0       1.0       1.0                1.0   \n",
       "46              1.0       1.0       0.0       0.0                0.0   \n",
       "47              0.0       1.0       0.0       0.0                0.0   \n",
       "48              0.0       0.0       0.0       0.0                0.0   \n",
       "49              0.0       1.0       1.0       0.0                0.0   \n",
       "50              1.0       0.0       1.0       0.0                1.0   \n",
       "51              0.0       0.0       0.0       0.0                0.0   \n",
       "52              0.0       1.0       1.0       1.0                1.0   \n",
       "53              1.0       1.0       1.0       1.0                0.0   \n",
       "54              1.0       1.0       1.0       1.0                0.0   \n",
       "55              1.0       1.0       0.0       1.0                0.0   \n",
       "\n",
       "    COUGHING  SHORTNESS OF BREATH  SWALLOWING DIFFICULTY  CHEST PAIN  \n",
       "0        0.0                  1.0                    0.0         0.0  \n",
       "1        0.0                  0.0                    1.0         1.0  \n",
       "2        0.0                  0.0                    1.0         1.0  \n",
       "3        0.0                  1.0                    1.0         0.0  \n",
       "4        0.0                  0.0                    0.0         0.0  \n",
       "5        0.0                  1.0                    0.0         0.0  \n",
       "6        1.0                  1.0                    1.0         0.0  \n",
       "7        1.0                  1.0                    0.0         0.0  \n",
       "8        0.0                  1.0                    0.0         1.0  \n",
       "9        1.0                  1.0                    0.0         1.0  \n",
       "10       1.0                  1.0                    1.0         1.0  \n",
       "11       1.0                  1.0                    1.0         0.0  \n",
       "12       1.0                  1.0                    1.0         0.0  \n",
       "13       1.0                  0.0                    0.0         1.0  \n",
       "14       0.0                  0.0                    0.0         1.0  \n",
       "15       1.0                  1.0                    1.0         0.0  \n",
       "16       0.0                  0.0                    1.0         1.0  \n",
       "17       1.0                  0.0                    1.0         1.0  \n",
       "18       1.0                  1.0                    0.0         1.0  \n",
       "19       0.0                  1.0                    0.0         1.0  \n",
       "20       1.0                  1.0                    1.0         1.0  \n",
       "21       0.0                  1.0                    0.0         0.0  \n",
       "22       0.0                  1.0                    0.0         0.0  \n",
       "23       1.0                  1.0                    1.0         1.0  \n",
       "24       1.0                  1.0                    0.0         1.0  \n",
       "25       0.0                  1.0                    0.0         0.0  \n",
       "26       1.0                  1.0                    1.0         0.0  \n",
       "27       0.0                  0.0                    0.0         0.0  \n",
       "28       0.0                  0.0                    1.0         1.0  \n",
       "29       1.0                  1.0                    1.0         1.0  \n",
       "30       0.0                  1.0                    0.0         0.0  \n",
       "31       0.0                  1.0                    1.0         1.0  \n",
       "32       1.0                  0.0                    1.0         1.0  \n",
       "33       1.0                  1.0                    0.0         0.0  \n",
       "34       0.0                  1.0                    1.0         1.0  \n",
       "35       1.0                  0.0                    0.0         0.0  \n",
       "36       1.0                  0.0                    1.0         1.0  \n",
       "37       1.0                  0.0                    1.0         0.0  \n",
       "38       1.0                  1.0                    0.0         1.0  \n",
       "39       0.0                  1.0                    1.0         1.0  \n",
       "40       1.0                  1.0                    1.0         1.0  \n",
       "41       0.0                  1.0                    0.0         0.0  \n",
       "42       1.0                  1.0                    0.0         1.0  \n",
       "43       1.0                  1.0                    1.0         1.0  \n",
       "44       1.0                  1.0                    0.0         1.0  \n",
       "45       1.0                  0.0                    0.0         0.0  \n",
       "46       0.0                  1.0                    0.0         0.0  \n",
       "47       0.0                  0.0                    1.0         1.0  \n",
       "48       1.0                  0.0                    0.0         0.0  \n",
       "49       1.0                  0.0                    1.0         0.0  \n",
       "50       1.0                  1.0                    0.0         1.0  \n",
       "51       0.0                  0.0                    0.0         1.0  \n",
       "52       1.0                  0.0                    1.0         1.0  \n",
       "53       1.0                  1.0                    1.0         0.0  \n",
       "54       0.0                  1.0                    0.0         0.0  \n",
       "55       1.0                  1.0                    1.0         0.0  "
      ]
     },
     "execution_count": 148,
     "metadata": {},
     "output_type": "execute_result"
    }
   ],
   "source": [
    "X_test_scaled = pd.DataFrame(scaler.transform(X_test),columns=X_test.columns)\n",
    "X_test_scaled"
   ]
  },
  {
   "cell_type": "markdown",
   "id": "2b6c58a2",
   "metadata": {
    "papermill": {
     "duration": 0.027765,
     "end_time": "2022-06-13T09:07:59.387610",
     "exception": false,
     "start_time": "2022-06-13T09:07:59.359845",
     "status": "completed"
    },
    "tags": []
   },
   "source": [
    "## Handling Imbalanced Class"
   ]
  },
  {
   "cell_type": "code",
   "execution_count": 149,
   "id": "0805f709",
   "metadata": {
    "execution": {
     "iopub.execute_input": "2022-06-13T09:07:59.445229Z",
     "iopub.status.busy": "2022-06-13T09:07:59.444827Z",
     "iopub.status.idle": "2022-06-13T09:07:59.813986Z",
     "shell.execute_reply": "2022-06-13T09:07:59.812899Z"
    },
    "papermill": {
     "duration": 0.400738,
     "end_time": "2022-06-13T09:07:59.816669",
     "exception": false,
     "start_time": "2022-06-13T09:07:59.415931",
     "status": "completed"
    },
    "tags": []
   },
   "outputs": [
    {
     "name": "stdout",
     "output_type": "stream",
     "text": [
      "Original dataset shape Counter({1: 238, 0: 38})\n",
      "Resample dataset shape Counter({1: 194, 0: 194})\n",
      "[(0, 194), (1, 194)]\n"
     ]
    }
   ],
   "source": [
    "from imblearn.over_sampling import SMOTE\n",
    "from collections import Counter\n",
    "sm = SMOTE(random_state = 42)\n",
    "X_resampled, y_resampled = sm.fit_resample(X_train_scaled, y_train)\n",
    "print('Original dataset shape', Counter(y))\n",
    "print('Resample dataset shape', Counter(y_resampled))\n",
    "print(sorted(Counter(y_resampled).items()))"
   ]
  },
  {
   "cell_type": "markdown",
   "id": "603dce49",
   "metadata": {
    "papermill": {
     "duration": 0.028048,
     "end_time": "2022-06-13T09:07:59.873808",
     "exception": false,
     "start_time": "2022-06-13T09:07:59.845760",
     "status": "completed"
    },
    "tags": []
   },
   "source": [
    "## Model Building and Evaluation"
   ]
  },
  {
   "cell_type": "code",
   "execution_count": 150,
   "id": "06c22032",
   "metadata": {
    "execution": {
     "iopub.execute_input": "2022-06-13T09:07:59.931432Z",
     "iopub.status.busy": "2022-06-13T09:07:59.931009Z",
     "iopub.status.idle": "2022-06-13T09:08:00.199887Z",
     "shell.execute_reply": "2022-06-13T09:08:00.198832Z"
    },
    "papermill": {
     "duration": 0.300316,
     "end_time": "2022-06-13T09:08:00.202202",
     "exception": false,
     "start_time": "2022-06-13T09:07:59.901886",
     "status": "completed"
    },
    "tags": []
   },
   "outputs": [
    {
     "name": "stdout",
     "output_type": "stream",
     "text": [
      "Training accuracy:  0.9226804123711341\n",
      "Plot confusion matrix <sklearn.metrics._plot.confusion_matrix.ConfusionMatrixDisplay object at 0x000001AC58058C10>\n",
      "Classification Report               precision    recall  f1-score   support\n",
      "\n",
      "           0       0.62      0.83      0.71        12\n",
      "           1       0.95      0.86      0.90        44\n",
      "\n",
      "    accuracy                           0.86        56\n",
      "   macro avg       0.79      0.85      0.81        56\n",
      "weighted avg       0.88      0.86      0.86        56\n",
      "\n"
     ]
    },
    {
     "data": {
      "image/png": "[encoded data removed]",
      "text/plain": [
       "<Figure size 432x288 with 2 Axes>"
      ]
     },
     "metadata": {
      "needs_background": "light"
     },
     "output_type": "display_data"
    }
   ],
   "source": [
    "## model 1\n",
    "\n",
    "from sklearn.linear_model import LogisticRegression\n",
    "from sklearn.metrics import plot_confusion_matrix, classification_report\n",
    "\n",
    "model = LogisticRegression()\n",
    "model.fit(X_resampled, y_resampled)\n",
    "print('Training accuracy: ', model.score(X_resampled, y_resampled))\n",
    "\n",
    "y_pred = model.predict(X_test_scaled)\n",
    "y_pred\n",
    "\n",
    "\n",
    "print(\"Plot confusion matrix\",plot_confusion_matrix(model, X_test_scaled, y_test))\n",
    "print(\"Classification Report\",classification_report(y_test, y_pred))"
   ]
  },
  {
   "cell_type": "code",
   "execution_count": 151,
   "id": "2232fb15",
   "metadata": {
    "execution": {
     "iopub.execute_input": "2022-06-13T09:08:00.262224Z",
     "iopub.status.busy": "2022-06-13T09:08:00.261244Z",
     "iopub.status.idle": "2022-06-13T09:08:00.510377Z",
     "shell.execute_reply": "2022-06-13T09:08:00.509303Z"
    },
    "papermill": {
     "duration": 0.28196,
     "end_time": "2022-06-13T09:08:00.513001",
     "exception": false,
     "start_time": "2022-06-13T09:08:00.231041",
     "status": "completed"
    },
    "tags": []
   },
   "outputs": [
    {
     "name": "stdout",
     "output_type": "stream",
     "text": [
      "Training accuracy:  1.0\n",
      "Plot confusion matrix <sklearn.metrics._plot.confusion_matrix.ConfusionMatrixDisplay object at 0x000001AC57BEAA10>\n",
      "Classification Report               precision    recall  f1-score   support\n",
      "\n",
      "           0       0.86      0.50      0.63        12\n",
      "           1       0.88      0.98      0.92        44\n",
      "\n",
      "    accuracy                           0.88        56\n",
      "   macro avg       0.87      0.74      0.78        56\n",
      "weighted avg       0.87      0.88      0.86        56\n",
      "\n"
     ]
    },
    {
     "data": {
      "image/png": "[encoded data removed]",
      "text/plain": [
       "<Figure size 432x288 with 2 Axes>"
      ]
     },
     "metadata": {
      "needs_background": "light"
     },
     "output_type": "display_data"
    }
   ],
   "source": [
    "## model 2\n",
    "\n",
    "from sklearn.tree import DecisionTreeClassifier\n",
    "model_2 = DecisionTreeClassifier(criterion='gini')\n",
    "model_2.fit(X_resampled, y_resampled)\n",
    "print('Training accuracy: ',model_2.score(X_resampled, y_resampled))\n",
    "\n",
    "y_prediction = model_2.predict(X_test_scaled)\n",
    "y_prediction\n",
    "\n",
    "print(\"Plot confusion matrix\",plot_confusion_matrix(model_2, X_test_scaled, y_test))\n",
    "\n",
    "print(\"Classification Report\",classification_report(y_test ,y_prediction))\n"
   ]
  },
  {
   "cell_type": "code",
   "execution_count": 152,
   "id": "9c3e0768",
   "metadata": {},
   "outputs": [
    {
     "name": "stdout",
     "output_type": "stream",
     "text": [
      "Training accuracy:  1.0\n",
      "Plot confusion matrix <sklearn.metrics._plot.confusion_matrix.ConfusionMatrixDisplay object at 0x000001AC542142E0>\n",
      "Classification Report               precision    recall  f1-score   support\n",
      "\n",
      "           0       0.78      0.58      0.67        12\n",
      "           1       0.89      0.95      0.92        44\n",
      "\n",
      "    accuracy                           0.88        56\n",
      "   macro avg       0.84      0.77      0.79        56\n",
      "weighted avg       0.87      0.88      0.87        56\n",
      "\n"
     ]
    },
    {
     "data": {
      "image/png": "[encoded data removed]",
      "text/plain": [
       "<Figure size 432x288 with 2 Axes>"
      ]
     },
     "metadata": {
      "needs_background": "light"
     },
     "output_type": "display_data"
    }
   ],
   "source": [
    "## model 2a (C4.5)\n",
    "\n",
    "from sklearn.tree import DecisionTreeClassifier\n",
    "model_2 = DecisionTreeClassifier(criterion='entropy')\n",
    "model_2.fit(X_resampled, y_resampled)\n",
    "print('Training accuracy: ',model_2.score(X_resampled, y_resampled))\n",
    "\n",
    "y_prediction = model_2.predict(X_test_scaled)\n",
    "y_prediction\n",
    "\n",
    "print(\"Plot confusion matrix\",plot_confusion_matrix(model_2, X_test_scaled, y_test))\n",
    "\n",
    "print(\"Classification Report\",classification_report(y_test ,y_prediction))"
   ]
  },
  {
   "cell_type": "code",
   "execution_count": 153,
   "id": "cd4594ed",
   "metadata": {
    "execution": {
     "iopub.execute_input": "2022-06-13T09:08:00.572954Z",
     "iopub.status.busy": "2022-06-13T09:08:00.572325Z",
     "iopub.status.idle": "2022-06-13T09:08:01.032826Z",
     "shell.execute_reply": "2022-06-13T09:08:01.031600Z"
    },
    "papermill": {
     "duration": 0.493049,
     "end_time": "2022-06-13T09:08:01.034841",
     "exception": false,
     "start_time": "2022-06-13T09:08:00.541792",
     "status": "completed"
    },
    "tags": []
   },
   "outputs": [
    {
     "name": "stdout",
     "output_type": "stream",
     "text": [
      "Training accuracy:  1.0\n",
      "Plot confusion matrix <sklearn.metrics._plot.confusion_matrix.ConfusionMatrixDisplay object at 0x000001AC5495E260>\n",
      "Classification Report               precision    recall  f1-score   support\n",
      "\n",
      "           0       0.89      0.67      0.76        12\n",
      "           1       0.91      0.98      0.95        44\n",
      "\n",
      "    accuracy                           0.91        56\n",
      "   macro avg       0.90      0.82      0.85        56\n",
      "weighted avg       0.91      0.91      0.91        56\n",
      "\n"
     ]
    },
    {
     "data": {
      "image/png": "[encoded data removed]",
      "text/plain": [
       "<Figure size 432x288 with 2 Axes>"
      ]
     },
     "metadata": {
      "needs_background": "light"
     },
     "output_type": "display_data"
    }
   ],
   "source": [
    "## model 3\n",
    "\n",
    "from sklearn.ensemble import RandomForestClassifier\n",
    "model_3 = RandomForestClassifier()\n",
    "model_3.fit(X_resampled, y_resampled)\n",
    "print('Training accuracy: ',model_3.score(X_resampled, y_resampled))\n",
    "\n",
    "y_predict = model_3.predict(X_test_scaled)\n",
    "y_predict\n",
    "\n",
    "print(\"Plot confusion matrix\",plot_confusion_matrix(model_3, X_test_scaled, y_test))\n",
    "\n",
    "print(\"Classification Report\",classification_report(y_test, y_predict))"
   ]
  },
  {
   "cell_type": "code",
   "execution_count": 154,
   "id": "73537278",
   "metadata": {},
   "outputs": [
    {
     "name": "stdout",
     "output_type": "stream",
     "text": [
      "Training accuracy:  0.9639175257731959\n",
      "Plot confusion matrix <sklearn.metrics._plot.confusion_matrix.ConfusionMatrixDisplay object at 0x000001AC57BE9750>\n",
      "Classification Report               precision    recall  f1-score   support\n",
      "\n",
      "           0       0.83      0.83      0.83        12\n",
      "           1       0.95      0.95      0.95        44\n",
      "\n",
      "    accuracy                           0.93        56\n",
      "   macro avg       0.89      0.89      0.89        56\n",
      "weighted avg       0.93      0.93      0.93        56\n",
      "\n"
     ]
    },
    {
     "data": {
      "image/png": "[encoded data removed]",
      "text/plain": [
       "<Figure size 432x288 with 2 Axes>"
      ]
     },
     "metadata": {
      "needs_background": "light"
     },
     "output_type": "display_data"
    }
   ],
   "source": [
    "## model 4 (svc)\n",
    "\n",
    "from sklearn.svm import SVC\n",
    "\n",
    "svc = SVC()\n",
    "svc.fit(X_resampled, y_resampled)\n",
    "\n",
    "print('Training accuracy: ',svc.score(X_resampled, y_resampled))\n",
    "\n",
    "y_predict = svc.predict(X_test_scaled)\n",
    "y_predict\n",
    "\n",
    "print(\"Plot confusion matrix\",plot_confusion_matrix(svc, X_test_scaled, y_test))\n",
    "\n",
    "print(\"Classification Report\",classification_report(y_test, y_predict))"
   ]
  },
  {
   "cell_type": "code",
   "execution_count": 155,
   "id": "181c957e",
   "metadata": {},
   "outputs": [
    {
     "name": "stdout",
     "output_type": "stream",
     "text": [
      "Training accuracy:  0.9432989690721649\n",
      "Plot confusion matrix <sklearn.metrics._plot.confusion_matrix.ConfusionMatrixDisplay object at 0x000001AC543CF460>\n",
      "Classification Report               precision    recall  f1-score   support\n",
      "\n",
      "           0       0.83      0.83      0.83        12\n",
      "           1       0.95      0.95      0.95        44\n",
      "\n",
      "    accuracy                           0.93        56\n",
      "   macro avg       0.89      0.89      0.89        56\n",
      "weighted avg       0.93      0.93      0.93        56\n",
      "\n"
     ]
    },
    {
     "data": {
      "image/png": "[encoded data removed]",
      "text/plain": [
       "<Figure size 432x288 with 2 Axes>"
      ]
     },
     "metadata": {
      "needs_background": "light"
     },
     "output_type": "display_data"
    }
   ],
   "source": [
    "## model 5 (K-NN)\n",
    "\n",
    "from sklearn.neighbors import KNeighborsClassifier\n",
    "k_model = KNeighborsClassifier()\n",
    "k_model.fit(X_resampled, y_resampled)\n",
    "\n",
    "print('Training accuracy: ',k_model.score(X_resampled, y_resampled))\n",
    "\n",
    "y_predict = svc.predict(X_test_scaled)\n",
    "y_predict\n",
    "\n",
    "print(\"Plot confusion matrix\",plot_confusion_matrix(k_model, X_test_scaled, y_test))\n",
    "\n",
    "print(\"Classification Report\",classification_report(y_test, y_predict))"
   ]
  },
  {
   "cell_type": "code",
   "execution_count": 156,
   "id": "34b84b75",
   "metadata": {
    "scrolled": true
   },
   "outputs": [
    {
     "name": "stdout",
     "output_type": "stream",
     "text": [
      "Training accuracy:  0.8737113402061856\n",
      "Plot confusion matrix <sklearn.metrics._plot.confusion_matrix.ConfusionMatrixDisplay object at 0x000001AC53FD6410>\n",
      "Classification Report               precision    recall  f1-score   support\n",
      "\n",
      "           0       0.69      0.75      0.72        12\n",
      "           1       0.93      0.91      0.92        44\n",
      "\n",
      "    accuracy                           0.88        56\n",
      "   macro avg       0.81      0.83      0.82        56\n",
      "weighted avg       0.88      0.88      0.88        56\n",
      "\n"
     ]
    },
    {
     "data": {
      "text/plain": [
       "89.08730158730161"
      ]
     },
     "execution_count": 156,
     "metadata": {},
     "output_type": "execute_result"
    },
    {
     "data": {
      "image/png": "[encoded data removed]",
      "text/plain": [
       "<Figure size 432x288 with 2 Axes>"
      ]
     },
     "metadata": {
      "needs_background": "light"
     },
     "output_type": "display_data"
    }
   ],
   "source": [
    "## model 6 (Naive Bayes)\n",
    "\n",
    "from sklearn.naive_bayes import GaussianNB\n",
    "from sklearn.metrics import plot_confusion_matrix, classification_report\n",
    "\n",
    "model = GaussianNB()\n",
    "model.fit(X_resampled, y_resampled)\n",
    "print('Training accuracy: ', model.score(X_resampled, y_resampled))\n",
    "\n",
    "y_pred = model.predict(X_test_scaled)\n",
    "y_pred\n",
    "\n",
    "\n",
    "print(\"Plot confusion matrix\",plot_confusion_matrix(model, X_test_scaled, y_test))\n",
    "print(\"Classification Report\",classification_report(y_test, y_pred))\n",
    "\n",
    "\n",
    "from sklearn.model_selection import cross_val_score\n",
    "cross_val_score(model, X,y , cv=10).mean()*100"
   ]
  },
  {
   "cell_type": "code",
   "execution_count": 157,
   "id": "292b5aca",
   "metadata": {
    "scrolled": true
   },
   "outputs": [
    {
     "name": "stdout",
     "output_type": "stream",
     "text": [
      "Training accuracy:  0.9845360824742269\n",
      "Plot confusion matrix <sklearn.metrics._plot.confusion_matrix.ConfusionMatrixDisplay object at 0x000001AC53F30790>\n",
      "Classification Report               precision    recall  f1-score   support\n",
      "\n",
      "           0       0.75      0.50      0.60        12\n",
      "           1       0.88      0.95      0.91        44\n",
      "\n",
      "    accuracy                           0.86        56\n",
      "   macro avg       0.81      0.73      0.76        56\n",
      "weighted avg       0.85      0.86      0.85        56\n",
      "\n"
     ]
    },
    {
     "data": {
      "text/plain": [
       "91.67989417989418"
      ]
     },
     "execution_count": 157,
     "metadata": {},
     "output_type": "execute_result"
    },
    {
     "data": {
      "image/png": "[encoded data removed]",
      "text/plain": [
       "<Figure size 432x288 with 2 Axes>"
      ]
     },
     "metadata": {
      "needs_background": "light"
     },
     "output_type": "display_data"
    }
   ],
   "source": [
    "## model 7 (MLP)\n",
    "\n",
    "from sklearn.neural_network import MLPClassifier\n",
    "from sklearn.metrics import plot_confusion_matrix, classification_report\n",
    "\n",
    "clf = MLPClassifier(solver='lbfgs', alpha=1e-5, hidden_layer_sizes=(3, 3), random_state=42)\n",
    "clf.fit(X_resampled, y_resampled)\n",
    "print('Training accuracy: ', clf.score(X_resampled, y_resampled))\n",
    "\n",
    "y_pred = clf.predict(X_test_scaled)\n",
    "y_pred\n",
    "\n",
    "\n",
    "print(\"Plot confusion matrix\",plot_confusion_matrix(clf, X_test_scaled, y_test))\n",
    "print(\"Classification Report\",classification_report(y_test, y_pred))\n",
    "\n",
    "\n",
    "from sklearn.model_selection import cross_val_score\n",
    "cross_val_score(clf, X,y , cv=10).mean()*100"
   ]
  },
  {
   "cell_type": "markdown",
   "id": "44bf9362",
   "metadata": {},
   "source": [
    "# Model with cross validation"
   ]
  },
  {
   "cell_type": "code",
   "execution_count": 158,
   "id": "972823a9",
   "metadata": {
    "scrolled": true
   },
   "outputs": [
    {
     "name": "stdout",
     "output_type": "stream",
     "text": [
      "Phase accuracy:  0.8571428571428571\n",
      "Phase accuracy:  0.8928571428571429\n",
      "Phase accuracy:  0.8928571428571429\n",
      "Phase accuracy:  0.8571428571428571\n",
      "Phase accuracy:  0.8928571428571429\n",
      "Phase accuracy:  0.8214285714285714\n",
      "Phase accuracy:  1.0\n",
      "Phase accuracy:  0.7777777777777778\n",
      "Phase accuracy:  0.8518518518518519\n",
      "Phase accuracy:  0.9259259259259259\n",
      "0.8769841269841271\n"
     ]
    }
   ],
   "source": [
    "# 1. Logistic Regression\n",
    " \n",
    "k = 10\n",
    "kf = KFold(n_splits=k, random_state=42, shuffle=True)\n",
    "\n",
    "acc_score = []\n",
    " \n",
    "for train_index , test_index in kf.split(X):\n",
    "    X_train, X_test = X.iloc[train_index], X.iloc[test_index]\n",
    "    y_train, y_test = y.iloc[train_index], y.iloc[test_index]\n",
    "    \n",
    "    scaler = MinMaxScaler()\n",
    "    X_train_scaled = pd.DataFrame(scaler.fit_transform(X_train),columns=X_train.columns)\n",
    "    X_test_scaled = pd.DataFrame(scaler.transform(X_test),columns=X_test.columns)\n",
    "    \n",
    "    from imblearn.over_sampling import SMOTE\n",
    "    from collections import Counter\n",
    "    sm = SMOTE(random_state = 42)\n",
    "    X_resampled, y_resampled = sm.fit_resample(X_train_scaled, y_train)\n",
    "\n",
    "    from sklearn.linear_model import LogisticRegression\n",
    "    from sklearn.metrics import plot_confusion_matrix, classification_report\n",
    "\n",
    "    model = LogisticRegression()\n",
    "    model.fit(X_resampled, y_resampled)\n",
    "\n",
    "    y_pred = model.predict(X_test_scaled)\n",
    "    acc = accuracy_score(y_test, y_pred)\n",
    "    print('Phase accuracy: ', acc)\n",
    "    acc_score.append(acc)\n",
    "    \n",
    "avg_acc_score = sum(acc_score)/k\n",
    "print(avg_acc_score)"
   ]
  },
  {
   "cell_type": "code",
   "execution_count": 159,
   "id": "913078e1",
   "metadata": {},
   "outputs": [
    {
     "name": "stdout",
     "output_type": "stream",
     "text": [
      "Phase accuracy:  0.8928571428571429\n",
      "Phase accuracy:  0.9285714285714286\n",
      "Phase accuracy:  0.9285714285714286\n",
      "Phase accuracy:  0.7142857142857143\n",
      "Phase accuracy:  0.8928571428571429\n",
      "Phase accuracy:  0.7142857142857143\n",
      "Phase accuracy:  0.9259259259259259\n",
      "Phase accuracy:  0.7037037037037037\n",
      "Phase accuracy:  0.9629629629629629\n",
      "Phase accuracy:  0.9259259259259259\n",
      "0.858994708994709\n"
     ]
    }
   ],
   "source": [
    "#2. Descicion Tree \n",
    " \n",
    "k = 10\n",
    "kf = KFold(n_splits=k, random_state=42, shuffle=True)\n",
    "\n",
    "acc_score = []\n",
    " \n",
    "for train_index , test_index in kf.split(X):\n",
    "    X_train, X_test = X.iloc[train_index], X.iloc[test_index]\n",
    "    y_train, y_test = y.iloc[train_index], y.iloc[test_index]\n",
    "    \n",
    "    scaler = MinMaxScaler()\n",
    "    X_train_scaled = pd.DataFrame(scaler.fit_transform(X_train),columns=X_train.columns)\n",
    "    X_test_scaled = pd.DataFrame(scaler.transform(X_test),columns=X_test.columns)\n",
    "    \n",
    "    from imblearn.over_sampling import SMOTE\n",
    "    from collections import Counter\n",
    "    sm = SMOTE(random_state = 42)\n",
    "    X_resampled, y_resampled = sm.fit_resample(X_train_scaled, y_train)\n",
    "\n",
    "    from sklearn.tree import DecisionTreeClassifier\n",
    "    model_2 = DecisionTreeClassifier(criterion='gini')\n",
    "    model_2.fit(X_resampled, y_resampled)\n",
    "\n",
    "    y_pred = model_2.predict(X_test_scaled)\n",
    "    acc = accuracy_score(y_test, y_pred)\n",
    "    print('Phase accuracy: ', acc)\n",
    "    acc_score.append(acc)\n",
    "    \n",
    "avg_acc_score = sum(acc_score)/k\n",
    "print(avg_acc_score)"
   ]
  },
  {
   "cell_type": "code",
   "execution_count": 160,
   "id": "d6edf27c",
   "metadata": {},
   "outputs": [
    {
     "name": "stdout",
     "output_type": "stream",
     "text": [
      "Phase accuracy:  0.8928571428571429\n",
      "Phase accuracy:  0.8928571428571429\n",
      "Phase accuracy:  0.9285714285714286\n",
      "Phase accuracy:  0.7142857142857143\n",
      "Phase accuracy:  0.9285714285714286\n",
      "Phase accuracy:  0.7857142857142857\n",
      "Phase accuracy:  0.9259259259259259\n",
      "Phase accuracy:  0.7407407407407407\n",
      "Phase accuracy:  0.9259259259259259\n",
      "Phase accuracy:  0.8888888888888888\n",
      "0.8624338624338623\n"
     ]
    }
   ],
   "source": [
    "#3. C4.5\n",
    " \n",
    "k = 10\n",
    "kf = KFold(n_splits=k, random_state=42, shuffle=True)\n",
    "\n",
    "acc_score = []\n",
    " \n",
    "for train_index , test_index in kf.split(X):\n",
    "    X_train, X_test = X.iloc[train_index], X.iloc[test_index]\n",
    "    y_train, y_test = y.iloc[train_index], y.iloc[test_index]\n",
    "    \n",
    "    scaler = MinMaxScaler()\n",
    "    X_train_scaled = pd.DataFrame(scaler.fit_transform(X_train),columns=X_train.columns)\n",
    "    X_test_scaled = pd.DataFrame(scaler.transform(X_test),columns=X_test.columns)\n",
    "    \n",
    "    from imblearn.over_sampling import SMOTE\n",
    "    from collections import Counter\n",
    "    sm = SMOTE(random_state = 42)\n",
    "    X_resampled, y_resampled = sm.fit_resample(X_train_scaled, y_train)\n",
    "\n",
    "    from sklearn.tree import DecisionTreeClassifier\n",
    "    model_2 = DecisionTreeClassifier(criterion='entropy')\n",
    "    model_2.fit(X_resampled, y_resampled)\n",
    "\n",
    "    y_pred = model_2.predict(X_test_scaled)\n",
    "    acc = accuracy_score(y_test, y_pred)\n",
    "    print('Phase accuracy: ', acc)\n",
    "    acc_score.append(acc)\n",
    "    \n",
    "avg_acc_score = sum(acc_score)/k\n",
    "print(avg_acc_score)"
   ]
  },
  {
   "cell_type": "code",
   "execution_count": 161,
   "id": "14063810",
   "metadata": {},
   "outputs": [
    {
     "name": "stdout",
     "output_type": "stream",
     "text": [
      "Phase accuracy:  0.9285714285714286\n",
      "Phase accuracy:  1.0\n",
      "Phase accuracy:  0.9642857142857143\n",
      "Phase accuracy:  0.7857142857142857\n",
      "Phase accuracy:  0.9642857142857143\n",
      "Phase accuracy:  0.8571428571428571\n",
      "Phase accuracy:  0.9629629629629629\n",
      "Phase accuracy:  0.7777777777777778\n",
      "Phase accuracy:  0.8888888888888888\n",
      "Phase accuracy:  0.8888888888888888\n",
      "0.9018518518518517\n"
     ]
    }
   ],
   "source": [
    "#4. Random Forest\n",
    " \n",
    "k = 10\n",
    "kf = KFold(n_splits=k, random_state=42, shuffle=True)\n",
    "\n",
    "acc_score = []\n",
    " \n",
    "for train_index , test_index in kf.split(X):\n",
    "    X_train, X_test = X.iloc[train_index], X.iloc[test_index]\n",
    "    y_train, y_test = y.iloc[train_index], y.iloc[test_index]\n",
    "    \n",
    "    scaler = MinMaxScaler()\n",
    "    X_train_scaled = pd.DataFrame(scaler.fit_transform(X_train),columns=X_train.columns)\n",
    "    X_test_scaled = pd.DataFrame(scaler.transform(X_test),columns=X_test.columns)\n",
    "    \n",
    "    from imblearn.over_sampling import SMOTE\n",
    "    from collections import Counter\n",
    "    sm = SMOTE(random_state = 42)\n",
    "    X_resampled, y_resampled = sm.fit_resample(X_train_scaled, y_train)\n",
    "\n",
    "    from sklearn.ensemble import RandomForestClassifier\n",
    "    model_3 = RandomForestClassifier()\n",
    "    model_3.fit(X_resampled, y_resampled)\n",
    "\n",
    "    y_pred = model_3.predict(X_test_scaled)\n",
    "    acc = accuracy_score(y_test, y_pred)\n",
    "    print('Phase accuracy: ', acc)\n",
    "    acc_score.append(acc)\n",
    "    \n",
    "avg_acc_score = sum(acc_score)/k\n",
    "print(avg_acc_score)"
   ]
  },
  {
   "cell_type": "code",
   "execution_count": 162,
   "id": "f1b33735",
   "metadata": {},
   "outputs": [
    {
     "name": "stdout",
     "output_type": "stream",
     "text": [
      "Phase accuracy:  0.8571428571428571\n",
      "Phase accuracy:  1.0\n",
      "Phase accuracy:  0.9285714285714286\n",
      "Phase accuracy:  0.75\n",
      "Phase accuracy:  0.9642857142857143\n",
      "Phase accuracy:  0.8928571428571429\n",
      "Phase accuracy:  1.0\n",
      "Phase accuracy:  0.8148148148148148\n",
      "Phase accuracy:  0.8888888888888888\n",
      "Phase accuracy:  0.8888888888888888\n",
      "0.8985449735449735\n"
     ]
    }
   ],
   "source": [
    "#5. SVM\n",
    " \n",
    "k = 10\n",
    "kf = KFold(n_splits=k, random_state=42, shuffle=True)\n",
    "\n",
    "acc_score = []\n",
    " \n",
    "for train_index , test_index in kf.split(X):\n",
    "    X_train, X_test = X.iloc[train_index], X.iloc[test_index]\n",
    "    y_train, y_test = y.iloc[train_index], y.iloc[test_index]\n",
    "    \n",
    "    scaler = MinMaxScaler()\n",
    "    X_train_scaled = pd.DataFrame(scaler.fit_transform(X_train),columns=X_train.columns)\n",
    "    X_test_scaled = pd.DataFrame(scaler.transform(X_test),columns=X_test.columns)\n",
    "    \n",
    "    from imblearn.over_sampling import SMOTE\n",
    "    from collections import Counter\n",
    "    sm = SMOTE(random_state = 42)\n",
    "    X_resampled, y_resampled = sm.fit_resample(X_train_scaled, y_train)\n",
    "\n",
    "    from sklearn.svm import SVC\n",
    "    svc = SVC()\n",
    "    svc.fit(X_resampled, y_resampled)\n",
    "\n",
    "    y_pred = svc.predict(X_test_scaled)\n",
    "    acc = accuracy_score(y_test, y_pred)\n",
    "    print('Phase accuracy: ', acc)\n",
    "    acc_score.append(acc)\n",
    "    \n",
    "avg_acc_score = sum(acc_score)/k\n",
    "print(avg_acc_score)"
   ]
  },
  {
   "cell_type": "code",
   "execution_count": 163,
   "id": "2716a435",
   "metadata": {},
   "outputs": [
    {
     "name": "stdout",
     "output_type": "stream",
     "text": [
      "Phase accuracy:  0.8928571428571429\n",
      "Phase accuracy:  1.0\n",
      "Phase accuracy:  0.8928571428571429\n",
      "Phase accuracy:  0.75\n",
      "Phase accuracy:  0.8928571428571429\n",
      "Phase accuracy:  0.7857142857142857\n",
      "Phase accuracy:  0.9259259259259259\n",
      "Phase accuracy:  0.7777777777777778\n",
      "Phase accuracy:  0.8518518518518519\n",
      "Phase accuracy:  0.8888888888888888\n",
      "0.8658730158730158\n"
     ]
    }
   ],
   "source": [
    "#6. K-NN\n",
    " \n",
    "k = 10\n",
    "kf = KFold(n_splits=k, random_state=42, shuffle=True)\n",
    "\n",
    "acc_score = []\n",
    " \n",
    "for train_index , test_index in kf.split(X):\n",
    "    X_train, X_test = X.iloc[train_index], X.iloc[test_index]\n",
    "    y_train, y_test = y.iloc[train_index], y.iloc[test_index]\n",
    "    \n",
    "    scaler = MinMaxScaler()\n",
    "    X_train_scaled = pd.DataFrame(scaler.fit_transform(X_train),columns=X_train.columns)\n",
    "    X_test_scaled = pd.DataFrame(scaler.transform(X_test),columns=X_test.columns)\n",
    "    \n",
    "    from imblearn.over_sampling import SMOTE\n",
    "    from collections import Counter\n",
    "    sm = SMOTE(random_state = 42)\n",
    "    X_resampled, y_resampled = sm.fit_resample(X_train_scaled, y_train)\n",
    "\n",
    "    from sklearn.neighbors import KNeighborsClassifier\n",
    "    k_model = KNeighborsClassifier()\n",
    "    k_model.fit(X_resampled, y_resampled)\n",
    "\n",
    "    y_pred = k_model.predict(X_test_scaled)\n",
    "    acc = accuracy_score(y_test, y_pred)\n",
    "    print('Phase accuracy: ', acc)\n",
    "    acc_score.append(acc)\n",
    "    \n",
    "avg_acc_score = sum(acc_score)/k\n",
    "print(avg_acc_score)"
   ]
  },
  {
   "cell_type": "code",
   "execution_count": 164,
   "id": "9b67be41",
   "metadata": {},
   "outputs": [
    {
     "name": "stdout",
     "output_type": "stream",
     "text": [
      "Phase accuracy:  0.8928571428571429\n",
      "Phase accuracy:  0.9642857142857143\n",
      "Phase accuracy:  0.8928571428571429\n",
      "Phase accuracy:  0.8571428571428571\n",
      "Phase accuracy:  0.7857142857142857\n",
      "Phase accuracy:  0.8571428571428571\n",
      "Phase accuracy:  0.9629629629629629\n",
      "Phase accuracy:  0.7037037037037037\n",
      "Phase accuracy:  0.8148148148148148\n",
      "Phase accuracy:  0.9259259259259259\n",
      "0.8657407407407407\n"
     ]
    }
   ],
   "source": [
    "#7. Naive Bayes\n",
    " \n",
    "k = 10\n",
    "kf = KFold(n_splits=k, random_state=42, shuffle=True)\n",
    "\n",
    "acc_score = []\n",
    " \n",
    "for train_index , test_index in kf.split(X):\n",
    "    X_train, X_test = X.iloc[train_index], X.iloc[test_index]\n",
    "    y_train, y_test = y.iloc[train_index], y.iloc[test_index]\n",
    "    \n",
    "    scaler = MinMaxScaler()\n",
    "    X_train_scaled = pd.DataFrame(scaler.fit_transform(X_train),columns=X_train.columns)\n",
    "    X_test_scaled = pd.DataFrame(scaler.transform(X_test),columns=X_test.columns)\n",
    "    \n",
    "    from imblearn.over_sampling import SMOTE\n",
    "    from collections import Counter\n",
    "    sm = SMOTE(random_state = 42)\n",
    "    X_resampled, y_resampled = sm.fit_resample(X_train_scaled, y_train)\n",
    "\n",
    "    from sklearn.naive_bayes import GaussianNB\n",
    "    from sklearn.metrics import plot_confusion_matrix, classification_report\n",
    "    model = GaussianNB()\n",
    "    model.fit(X_resampled, y_resampled)\n",
    "\n",
    "    y_pred = model.predict(X_test_scaled)\n",
    "    acc = accuracy_score(y_test, y_pred)\n",
    "    print('Phase accuracy: ', acc)\n",
    "    acc_score.append(acc)\n",
    "    \n",
    "avg_acc_score = sum(acc_score)/k\n",
    "print(avg_acc_score)"
   ]
  },
  {
   "cell_type": "code",
   "execution_count": 165,
   "id": "a13d95d0",
   "metadata": {},
   "outputs": [
    {
     "name": "stdout",
     "output_type": "stream",
     "text": [
      "Phase accuracy:  0.8928571428571429\n",
      "Phase accuracy:  0.8571428571428571\n",
      "Phase accuracy:  0.9285714285714286\n",
      "Phase accuracy:  0.8214285714285714\n",
      "Phase accuracy:  0.9642857142857143\n",
      "Phase accuracy:  0.8214285714285714\n",
      "Phase accuracy:  1.0\n",
      "Phase accuracy:  0.7777777777777778\n",
      "Phase accuracy:  0.9259259259259259\n",
      "Phase accuracy:  0.8518518518518519\n",
      "0.884126984126984\n"
     ]
    }
   ],
   "source": [
    "#8. MLP\n",
    " \n",
    "k = 10\n",
    "kf = KFold(n_splits=k, random_state=42, shuffle=True)\n",
    "\n",
    "acc_score = []\n",
    " \n",
    "for train_index , test_index in kf.split(X):\n",
    "    X_train, X_test = X.iloc[train_index], X.iloc[test_index]\n",
    "    y_train, y_test = y.iloc[train_index], y.iloc[test_index]\n",
    "    \n",
    "    scaler = MinMaxScaler()\n",
    "    X_train_scaled = pd.DataFrame(scaler.fit_transform(X_train),columns=X_train.columns)\n",
    "    X_test_scaled = pd.DataFrame(scaler.transform(X_test),columns=X_test.columns)\n",
    "    \n",
    "    from imblearn.over_sampling import SMOTE\n",
    "    from collections import Counter\n",
    "    sm = SMOTE(random_state = 42)\n",
    "    X_resampled, y_resampled = sm.fit_resample(X_train_scaled, y_train)\n",
    "\n",
    "    from sklearn.neural_network import MLPClassifier\n",
    "    from sklearn.metrics import plot_confusion_matrix, classification_report\n",
    "    clf = MLPClassifier(solver='lbfgs', alpha=1e-5, hidden_layer_sizes=(3, 3), random_state=42)\n",
    "    clf.fit(X_resampled, y_resampled)\n",
    "\n",
    "    y_pred = clf.predict(X_test_scaled)\n",
    "    acc = accuracy_score(y_test, y_pred)\n",
    "    print('Phase accuracy: ', acc)\n",
    "    acc_score.append(acc)\n",
    "    \n",
    "avg_acc_score = sum(acc_score)/k\n",
    "print(avg_acc_score)"
   ]
  },
  {
   "cell_type": "code",
   "execution_count": null,
   "id": "1b968d86",
   "metadata": {},
   "outputs": [],
   "source": []
  }
 ],
 "metadata": {
  "kernelspec": {
   "display_name": "Python 3 (ipykernel)",
   "language": "python",
   "name": "python3"
  },
  "language_info": {
   "codemirror_mode": {
    "name": "ipython",
    "version": 3
   },
   "file_extension": ".py",
   "mimetype": "text/x-python",
   "name": "python",
   "nbconvert_exporter": "python",
   "pygments_lexer": "ipython3",
   "version": "3.9.12"
  },
  "papermill": {
   "default_parameters": {},
   "duration": 73.958253,
   "end_time": "2022-06-13T09:08:03.143252",
   "environment_variables": {},
   "exception": null,
   "input_path": "__notebook__.ipynb",
   "output_path": "__notebook__.ipynb",
   "parameters": {},
   "start_time": "2022-06-13T09:06:49.184999",
   "version": "2.3.4"
  }
 },
 "nbformat": 4,
 "nbformat_minor": 5
}
